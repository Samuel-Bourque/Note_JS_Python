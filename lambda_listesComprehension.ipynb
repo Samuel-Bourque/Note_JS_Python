{
 "cells": [
  {
   "cell_type": "markdown",
   "metadata": {},
   "source": [
    "<img style='margin-right:0' src=\"http://dinfo.ca/logoDptInfo.jpg\" width=300>\n",
    "\n",
    "# Fonctions lambda (python)\n",
    "---"
   ]
  },
  {
   "cell_type": "markdown",
   "metadata": {},
   "source": [
    "Une fonction Lambda est une fonction anonyme permettant la création d'un traitement rapide.\n",
    "\n",
    "Syntaxe:\n",
    "```python\n",
    "  lambda arguments : expression\n",
    "```"
   ]
  },
  {
   "cell_type": "code",
   "execution_count": 1,
   "metadata": {},
   "outputs": [
    {
     "name": "stdout",
     "output_type": "stream",
     "text": [
      "26\n",
      "34\n"
     ]
    }
   ],
   "source": [
    "# Fonction traditionnelle\n",
    "def doubler(x):\n",
    "    return x*2\n",
    "print(doubler(13))\n",
    "print(doubler(17))"
   ]
  },
  {
   "cell_type": "code",
   "execution_count": 2,
   "metadata": {},
   "outputs": [
    {
     "name": "stdout",
     "output_type": "stream",
     "text": [
      "66\n",
      "104\n"
     ]
    }
   ],
   "source": [
    "# Fonction lambda\n",
    "ldoubler = lambda x: x*2\n",
    "print(ldoubler(33))\n",
    "# Autre contexte d'utilisation\n",
    "print( (lambda x:x*2)(52))"
   ]
  },
  {
   "cell_type": "code",
   "execution_count": 4,
   "metadata": {},
   "outputs": [
    {
     "name": "stdout",
     "output_type": "stream",
     "text": [
      "9\n"
     ]
    }
   ],
   "source": [
    "def additionner(a,b):\n",
    "    return a + b\n",
    "print(additionner(2,7))"
   ]
  },
  {
   "cell_type": "code",
   "execution_count": 5,
   "metadata": {},
   "outputs": [
    {
     "name": "stdout",
     "output_type": "stream",
     "text": [
      "7\n"
     ]
    }
   ],
   "source": [
    "additionner = lambda a,b : a + b\n",
    "print(additionner(3,4))"
   ]
  },
  {
   "cell_type": "markdown",
   "metadata": {},
   "source": [
    "# Utilisation des fonctions lambda\n",
    "\n",
    "Présentement, nous ne gagnons rien à déclarer les fonctions lambda.  Il est préférable de déclarer nos fonctions comme à l'habitude, sauf pour certaines utilisations."
   ]
  },
  {
   "cell_type": "markdown",
   "metadata": {},
   "source": [
    "### Fonction map\n",
    "\n",
    "Syntaxe:\n",
    "```python\n",
    "  map(fonction, iterable)\n",
    "```\n",
    "\n",
    "Permet d'exécuter la fonction sur chaque item de l'itération.  Retourne une collection des éléments transformés."
   ]
  },
  {
   "cell_type": "code",
   "execution_count": 10,
   "metadata": {},
   "outputs": [
    {
     "name": "stdout",
     "output_type": "stream",
     "text": [
      "[6, 7, 8, 9]\n"
     ]
    }
   ],
   "source": [
    "def incrementer(x):\n",
    "    return x+1\n",
    "print( list(  map(incrementer, [5,6,7,8])  ) )"
   ]
  },
  {
   "cell_type": "code",
   "execution_count": 11,
   "metadata": {},
   "outputs": [
    {
     "name": "stdout",
     "output_type": "stream",
     "text": [
      "[10, 12, 14, 16]\n"
     ]
    }
   ],
   "source": [
    "doubles = list( map(lambda v:v*2, [5,6,7,8]) )\n",
    "print(doubles)"
   ]
  },
  {
   "cell_type": "markdown",
   "metadata": {},
   "source": [
    "### Fonction filter\n",
    "\n",
    "Syntaxe:\n",
    "\n",
    "```python\n",
    "   filter(fonction, iterable)\n",
    "```\n",
    "\n",
    "Retourne une séquence pour les éléments dont la fonction retourne vrai."
   ]
  },
  {
   "cell_type": "code",
   "execution_count": 12,
   "metadata": {},
   "outputs": [
    {
     "name": "stdout",
     "output_type": "stream",
     "text": [
      "[1, 3, 5, 7, 9]\n"
     ]
    }
   ],
   "source": [
    "impairs = filter( lambda v:v%2==1, [1,2,3,4,5,6,7,8,9,10])\n",
    "print(list(impairs))"
   ]
  },
  {
   "cell_type": "markdown",
   "metadata": {},
   "source": [
    "### Exemples avec map et filter"
   ]
  },
  {
   "cell_type": "code",
   "execution_count": 13,
   "metadata": {},
   "outputs": [],
   "source": [
    "donneesDemographiques = [\n",
    "    {'ville': 'Toronto', 'population': 2731571}, \n",
    "    {'ville': 'Montréal', 'population': 1704694}, \n",
    "    {'ville': 'Vancouver', 'population': 631486}, \n",
    "    {'ville': 'New York', 'population': 8622698}\n",
    "]"
   ]
  },
  {
   "cell_type": "code",
   "execution_count": 14,
   "metadata": {},
   "outputs": [
    {
     "name": "stdout",
     "output_type": "stream",
     "text": [
      "['Toronto', 'Montréal', 'Vancouver', 'New York']\n"
     ]
    }
   ],
   "source": [
    "villes = list(map( lambda infos:infos['ville'], donneesDemographiques))\n",
    "print(villes)"
   ]
  },
  {
   "cell_type": "code",
   "execution_count": 20,
   "metadata": {},
   "outputs": [
    {
     "name": "stdout",
     "output_type": "stream",
     "text": [
      "[{'ville': 'Toronto', 'population': 2731571}, {'ville': 'New York', 'population': 8622698}]\n"
     ]
    }
   ],
   "source": [
    "villesPlusDeuxMillions = list(\n",
    "    filter(lambda infos: infos['population'] > 2000000\n",
    "                                     , donneesDemographiques )\n",
    ")\n",
    "print(villesPlusDeuxMillions)"
   ]
  },
  {
   "cell_type": "markdown",
   "metadata": {},
   "source": [
    "# Compréhensions de listes (list comprehension)\n",
    "\n",
    "Façon de construire des listes de manière très concise.\n",
    "\n",
    "Syntaxes:\n",
    "\n",
    "```python\n",
    "   [ expression for item in list if condition ]\n",
    "   [ expression for item in list ]\n",
    "```"
   ]
  },
  {
   "cell_type": "code",
   "execution_count": 21,
   "metadata": {},
   "outputs": [
    {
     "name": "stdout",
     "output_type": "stream",
     "text": [
      "[26, 28, 30]\n"
     ]
    }
   ],
   "source": [
    "doubles = [x*2 for x in [13,14,15]]\n",
    "print(doubles)"
   ]
  },
  {
   "cell_type": "code",
   "execution_count": 23,
   "metadata": {},
   "outputs": [
    {
     "name": "stdout",
     "output_type": "stream",
     "text": [
      "[1, 3, 5, 7, 9]\n"
     ]
    }
   ],
   "source": [
    "impairs = [x for x in [1,2,3,4,5,6,7,8,9,10] if x%2==1]\n",
    "print(impairs)"
   ]
  },
  {
   "cell_type": "code",
   "execution_count": 24,
   "metadata": {},
   "outputs": [
    {
     "name": "stdout",
     "output_type": "stream",
     "text": [
      "[4, 7, 7, 4, 8, 9]\n"
     ]
    }
   ],
   "source": [
    "prenoms = ['Adam', 'Bernard','Charles','Eric','Frédéric', 'Guillaume']\n",
    "longueurs = [len(x) for x in prenoms]\n",
    "print(longueurs)"
   ]
  },
  {
   "cell_type": "code",
   "execution_count": 27,
   "metadata": {},
   "outputs": [
    {
     "name": "stdout",
     "output_type": "stream",
     "text": [
      "['Bernard', 'Charles', 'Frédéric', 'Guillaume']\n"
     ]
    }
   ],
   "source": [
    "prenomsPlusCinqLettres = [x for x in prenoms if len(x) > 5]\n",
    "print(prenomsPlusCinqLettres)"
   ]
  },
  {
   "cell_type": "code",
   "execution_count": 35,
   "metadata": {},
   "outputs": [
    {
     "name": "stdout",
     "output_type": "stream",
     "text": [
      "Chaise jaune\n",
      "Chaise rouge\n",
      "Bureau jaune\n",
      "Bureau rouge\n",
      "Lampe jaune\n",
      "Lampe rouge\n"
     ]
    }
   ],
   "source": [
    "listeObjets = ['chaise','bureau','lampe']\n",
    "listeCouleurs = ['jaune', 'rouge']\n",
    "melanges = [(obj,coul) for obj in listeObjets for coul in listeCouleurs]\n",
    "for [obj,coul] in melanges:\n",
    "    print(obj.capitalize(),coul)"
   ]
  }
 ],
 "metadata": {
  "kernelspec": {
   "display_name": "Python 3",
   "language": "python",
   "name": "python3"
  },
  "language_info": {
   "codemirror_mode": {
    "name": "ipython",
    "version": 3
   },
   "file_extension": ".py",
   "mimetype": "text/x-python",
   "name": "python",
   "nbconvert_exporter": "python",
   "pygments_lexer": "ipython3",
   "version": "3.5.2"
  }
 },
 "nbformat": 4,
 "nbformat_minor": 2
}
