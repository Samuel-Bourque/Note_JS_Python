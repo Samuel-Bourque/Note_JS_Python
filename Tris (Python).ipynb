{
 "cells": [
  {
   "cell_type": "markdown",
   "metadata": {},
   "source": [
    "<img style='margin-right:0' src=\"http://dinfo.ca/logoDptInfo.jpg\" width=300>\n",
    "\n",
    "# Tris de données (Python)\n",
    "---"
   ]
  },
  {
   "cell_type": "markdown",
   "metadata": {},
   "source": [
    "Les tris en Python s'effectuent selon deux (2) mécanismes:\n",
    "\n",
    "- méthode `sort()` qui modifie sur-place la collection\n",
    "- fonction prédéfinie `sorted()` qui génère une nouvelle liste"
   ]
  },
  {
   "cell_type": "code",
   "execution_count": 1,
   "metadata": {},
   "outputs": [
    {
     "data": {
      "text/plain": [
       "[1, 2, 3, 4, 5, 6, 7, 8, 9]"
      ]
     },
     "execution_count": 1,
     "metadata": {},
     "output_type": "execute_result"
    }
   ],
   "source": [
    "sorted([6,2,5,8,9,1,3,7,4])"
   ]
  },
  {
   "cell_type": "code",
   "execution_count": 5,
   "metadata": {},
   "outputs": [
    {
     "data": {
      "text/plain": [
       "[1, 2, 3, 4, 5, 6, 7, 8, 9]"
      ]
     },
     "execution_count": 5,
     "metadata": {},
     "output_type": "execute_result"
    }
   ],
   "source": [
    "valeurs = [6,2,5,8,9,1,3,7,4]\n",
    "valeurs.sort()\n",
    "valeurs"
   ]
  },
  {
   "cell_type": "markdown",
   "metadata": {},
   "source": [
    "#### Comparaison de valeurs numériques"
   ]
  },
  {
   "cell_type": "code",
   "execution_count": 8,
   "metadata": {},
   "outputs": [
    {
     "data": {
      "text/plain": [
       "[10.0, 11.5, 12.0, 12.5, 24.0]"
      ]
     },
     "execution_count": 8,
     "metadata": {},
     "output_type": "execute_result"
    }
   ],
   "source": [
    "sorted([12.0, 24.0, 12.5, 11.5, 10.0]) # ordre naturel"
   ]
  },
  {
   "cell_type": "markdown",
   "metadata": {},
   "source": [
    "#### Comparaison de chaînes de caractères"
   ]
  },
  {
   "cell_type": "code",
   "execution_count": 10,
   "metadata": {},
   "outputs": [
    {
     "data": {
      "text/plain": [
       "['aa', 'ab', 'ad', 'ba', 'bc', 'dd']"
      ]
     },
     "execution_count": 10,
     "metadata": {},
     "output_type": "execute_result"
    }
   ],
   "source": [
    "sorted(['ab','ad','aa','bc','ba','dd'])"
   ]
  },
  {
   "cell_type": "code",
   "execution_count": 12,
   "metadata": {},
   "outputs": [
    {
     "data": {
      "text/plain": [
       "['Ad', 'Ba', 'aa', 'ab', 'bc', 'dd']"
      ]
     },
     "execution_count": 12,
     "metadata": {},
     "output_type": "execute_result"
    }
   ],
   "source": [
    "sorted(['ab','Ad','aa','bc','Ba','dd'])"
   ]
  },
  {
   "cell_type": "code",
   "execution_count": 26,
   "metadata": {},
   "outputs": [
    {
     "name": "stdout",
     "output_type": "stream",
     "text": [
      "False\n",
      "True\n",
      "False\n"
     ]
    }
   ],
   "source": [
    "# Basé sur la comparaison des chaînes\n",
    "print(\"Marco\" < \"Marc\")\n",
    "print(\"Marc\" < \"Marco\")\n",
    "print(\"Marc-Antoine\" < \"Marc-Anthony\")"
   ]
  },
  {
   "cell_type": "code",
   "execution_count": 27,
   "metadata": {},
   "outputs": [
    {
     "name": "stdout",
     "output_type": "stream",
     "text": [
      "Majuscule plus petite que minuscule\n"
     ]
    }
   ],
   "source": [
    "if 'A' < 'a':\n",
    "    print(\"Majuscule plus petite que minuscule\")"
   ]
  },
  {
   "cell_type": "code",
   "execution_count": 28,
   "metadata": {},
   "outputs": [
    {
     "name": "stdout",
     "output_type": "stream",
     "text": [
      "Valeur de 'A': décimal 65 -- hex: 41\n",
      "Valeur de 'a': décimal 97 -- hex: 61\n"
     ]
    }
   ],
   "source": [
    "print(\"Valeur de 'A': décimal %d -- hex: %02x\" % (ord('A'), ord('A')))\n",
    "print(\"Valeur de 'a': décimal %d -- hex: %02x\" % (ord('a'), ord('a')))"
   ]
  },
  {
   "cell_type": "markdown",
   "metadata": {},
   "source": [
    "#### Représentation ASCII 7-bits\n",
    "\n",
    "![](https://upload.wikimedia.org/wikipedia/commons/thumb/1/1b/ASCII-Table-wide.svg/800px-ASCII-Table-wide.svg.png)"
   ]
  },
  {
   "cell_type": "code",
   "execution_count": 31,
   "metadata": {},
   "outputs": [
    {
     "data": {
      "text/plain": [
       "['Marc', 'Marc-André', 'Marc-Antoine', 'Marcel', 'Marco']"
      ]
     },
     "execution_count": 31,
     "metadata": {},
     "output_type": "execute_result"
    }
   ],
   "source": [
    "sorted(['Marco','Marc','Marc-André','Marcel','Marc-Antoine'])"
   ]
  },
  {
   "cell_type": "markdown",
   "metadata": {},
   "source": [
    "### Paramètre `key` au tri"
   ]
  },
  {
   "cell_type": "markdown",
   "metadata": {},
   "source": [
    "On peut fournir un paramètre nommé (forme spéciale) qui est une fonction qui sera **invoquée par le tri**.  \n",
    "\n",
    "Cette fonction n'accepte qu'un paramètre et le résultat sera utilisé _uniquement_ dans la comparaison.  "
   ]
  },
  {
   "cell_type": "code",
   "execution_count": 46,
   "metadata": {},
   "outputs": [
    {
     "data": {
      "text/plain": [
       "['aa', 'ab', 'Ad', 'Ba', 'bc', 'dd']"
      ]
     },
     "execution_count": 46,
     "metadata": {},
     "output_type": "execute_result"
    }
   ],
   "source": [
    "# Tri de chaînes sans considérer la casse de caractère\n",
    "sorted(['ab','Ad','aa','bc','Ba','dd'], key=str.lower)"
   ]
  },
  {
   "cell_type": "code",
   "execution_count": 52,
   "metadata": {},
   "outputs": [
    {
     "name": "stdout",
     "output_type": "stream",
     "text": [
      "['aa', 'ccccc', 'ddd', 'ddddddd', 'z']\n",
      "['z', 'aa', 'ddd', 'ccccc', 'ddddddd']\n"
     ]
    }
   ],
   "source": [
    "print( sorted(['ddddddd', 'ccccc', 'ddd','aa','z']) )\n",
    "# Basé sur la longueur\n",
    "print( sorted(['ddddddd', 'ccccc', 'ddd','aa','z'], key=len) )"
   ]
  },
  {
   "cell_type": "markdown",
   "metadata": {},
   "source": [
    "#### Explication\n",
    "\n",
    "Référence: `developers.google.com/edu/python/images/sorted-key.png`\n",
    "\n",
    "![](https://developers.google.com/edu/python/images/sorted-key.png)"
   ]
  },
  {
   "cell_type": "code",
   "execution_count": 51,
   "metadata": {},
   "outputs": [
    {
     "data": {
      "text/plain": [
       "[9, 8, 7, 6, 5, 4, 3, 2, 1]"
      ]
     },
     "execution_count": 51,
     "metadata": {},
     "output_type": "execute_result"
    }
   ],
   "source": [
    "#### Définir notre propre fonction pour le tri\n",
    "def inverserSigne(val):\n",
    "    return -val\n",
    "sorted([6,2,5,8,9,1,3,7,4], key=inverserSigne)"
   ]
  },
  {
   "cell_type": "markdown",
   "metadata": {},
   "source": [
    "### Paramètre `reverse` au tri\n",
    "\n",
    "* Préférable d'utiliser cette technique pour avoir l'ordre inverse (décroissant)"
   ]
  },
  {
   "cell_type": "code",
   "execution_count": 41,
   "metadata": {},
   "outputs": [
    {
     "data": {
      "text/plain": [
       "[9, 8, 7, 6, 5, 4, 3, 2, 1]"
      ]
     },
     "execution_count": 41,
     "metadata": {},
     "output_type": "execute_result"
    }
   ],
   "source": [
    "sorted([6,2,5,8,9,1,3,7,4], reverse=True)"
   ]
  },
  {
   "cell_type": "code",
   "execution_count": 42,
   "metadata": {},
   "outputs": [
    {
     "data": {
      "text/plain": [
       "['dd', 'bc', 'ba', 'ad', 'ab', 'aa']"
      ]
     },
     "execution_count": 42,
     "metadata": {},
     "output_type": "execute_result"
    }
   ],
   "source": [
    "sorted(['ab','ad','aa','bc','ba','dd'], reverse=True)"
   ]
  },
  {
   "cell_type": "markdown",
   "metadata": {},
   "source": [
    "### Comparateur externe\n",
    "\n",
    "Adaptation spéciale selon la nouvelle version de Python.\n",
    "\n",
    "Fonction `cmp_to_key(mycmp)` à recopier intégralement."
   ]
  },
  {
   "cell_type": "code",
   "execution_count": 47,
   "metadata": {},
   "outputs": [
    {
     "name": "stdout",
     "output_type": "stream",
     "text": [
      "[1, 2, 3, 5, 6, 8, 9, 10]\n",
      "[1, 3, 5, 9, 2, 6, 8, 10]\n"
     ]
    }
   ],
   "source": [
    "def cmp_to_key(mycmp):\n",
    "    'Convert a cmp= function into a key= function'\n",
    "    class K(object):\n",
    "        def __init__(self, obj, *args):\n",
    "            self.obj = obj\n",
    "        def __lt__(self, other):\n",
    "            return mycmp(self.obj, other.obj) < 0\n",
    "        def __gt__(self, other):\n",
    "            return mycmp(self.obj, other.obj) > 0\n",
    "        def __eq__(self, other):\n",
    "            return mycmp(self.obj, other.obj) == 0\n",
    "        def __le__(self, other):\n",
    "            return mycmp(self.obj, other.obj) <= 0  \n",
    "        def __ge__(self, other):\n",
    "            return mycmp(self.obj, other.obj) >= 0\n",
    "        def __ne__(self, other):\n",
    "            return mycmp(self.obj, other.obj) != 0\n",
    "    return K\n",
    "\n",
    "def comparateurImpairPair(x, y):\n",
    "    if x % 2 == 1:\n",
    "        if y % 2 == 1:\n",
    "            r = x - y\n",
    "        else:\n",
    "            r = -1\n",
    "    elif y % 2 == 1:\n",
    "        r = 1\n",
    "    else:\n",
    "        r = x - y\n",
    "    return r\n",
    "print( sorted([2,3,1,5,8,6,10,9]) )\n",
    "print( sorted([2,3,1,5,8,6,10,9], key=cmp_to_key(comparateurImpairPair)) )"
   ]
  },
  {
   "cell_type": "code",
   "execution_count": 49,
   "metadata": {},
   "outputs": [
    {
     "name": "stdout",
     "output_type": "stream",
     "text": [
      "['z', 'aa', 'ddd', 'ccccc', 'ddddddd']\n"
     ]
    }
   ],
   "source": [
    "def comparateurLongueur(x,y):\n",
    "    return len(x) - len(y)\n",
    "print( sorted(['ddddddd', 'ccccc', 'ddd','aa','z'], key=cmp_to_key(comparateurLongueur)) )"
   ]
  }
 ],
 "metadata": {
  "kernelspec": {
   "display_name": "Python 3",
   "language": "python",
   "name": "python3"
  },
  "language_info": {
   "codemirror_mode": {
    "name": "ipython",
    "version": 3
   },
   "file_extension": ".py",
   "mimetype": "text/x-python",
   "name": "python",
   "nbconvert_exporter": "python",
   "pygments_lexer": "ipython3",
   "version": "3.5.2"
  }
 },
 "nbformat": 4,
 "nbformat_minor": 2
}
