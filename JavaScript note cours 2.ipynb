{
  "cells": [
    {
      "cell_type": "markdown",
      "source": [
        "<img style='margin-right:0' src=\"http://dinfo.ca/logoDptInfo.jpg\" width=300>\n",
        "\n",
        "# Référence JavaScript (chaînes)\n",
        "---"
      ],
      "metadata": {}
    },
    {
      "cell_type": "markdown",
      "source": [
        "**Opérateur**\n",
        "\n",
        "> Concaténation\n",
        "\n",
        "**Propriété**\n",
        "\n",
        "> length\n",
        "\n",
        "**Méthodes**\n",
        "\n",
        "| &nbsp;            | &nbsp;           | &nbsp;              | \n",
        "|-------------------|------------------|---------------------|\n",
        "| **charAt()**      | match()          | toLocaleLowerCase() |\n",
        "| charCodeAt()      | repeat()         | toLocaleUpperCase() |\n",
        "| **concat()**      | **replace()**    | **toLowerCase()**   |\n",
        "| **endsWith()**    | search()         | toString()          |\n",
        "| fromCharCode()    | **slice()**      | **toUpperCase()**   |\n",
        "| **includes()**    | split()          | **trim()**          |\n",
        "| **indexOf()**     | **startsWith()** | valueOf()           |\n",
        "| **lastIndexOf()** | substr()         | &nbsp;              |\n",
        "| localeCompare()   | substring()      | &nbsp;              |\n",
        "\nN.B.: Les méthodes **en gras** sont traitées dans cette référence."
      ],
      "metadata": {}
    },
    {
      "cell_type": "markdown",
      "source": [
        "---\n",
        "# Opérateur: concaténation (+)"
      ],
      "metadata": {}
    },
    {
      "cell_type": "markdown",
      "source": [
        "**Concaténation**\n",
        "\n> Permet de joindre ensemble deux chaînes."
      ],
      "metadata": {}
    },
    {
      "cell_type": "code",
      "source": [
        "console.log(\"ABC\" + \"DEF\");"
      ],
      "outputs": [
        {
          "output_type": "stream",
          "name": "stdout",
          "text": [
            "ABCDEF\n"
          ]
        }
      ],
      "execution_count": 21,
      "metadata": {}
    },
    {
      "cell_type": "code",
      "source": [
        "var nom = 'Guay';\n",
        "var prenom = 'Marco';\n",
        "var nomComplet = prenom + ' ' + nom;\n",
        "console.log(nomComplet);"
      ],
      "outputs": [
        {
          "output_type": "stream",
          "name": "stdout",
          "text": [
            "Marco Guay\n"
          ]
        }
      ],
      "execution_count": 22,
      "metadata": {}
    },
    {
      "cell_type": "code",
      "source": [
        "var cegep = 'Cégep' + ' ' + 'de ' + 'Thetford';\n",
        "console.log(cegep);"
      ],
      "outputs": [
        {
          "output_type": "stream",
          "name": "stdout",
          "text": [
            "Cégep de Thetford\n"
          ]
        }
      ],
      "execution_count": 23,
      "metadata": {}
    },
    {
      "cell_type": "markdown",
      "source": [
        "**Concaténation -- cas particulier**\n",
        "\nQu'arrive-t-il si on concatène une chaîne avec un nombre?"
      ],
      "metadata": {}
    },
    {
      "cell_type": "code",
      "source": [
        "console.log(\"Age requis: \" + 12);\n",
        "console.log(12 + ' singes');"
      ],
      "outputs": [
        {
          "output_type": "stream",
          "name": "stdout",
          "text": [
            "Age requis: 12\n",
            "12 singes\n"
          ]
        }
      ],
      "execution_count": 24,
      "metadata": {}
    },
    {
      "cell_type": "markdown",
      "source": [
        "## Conversions\n",
        "\n",
        "`parseInt(string, base)`\n",
        "\n",
        "La fonction `parseInt()` analyse une chaîne de caractère fournie en argument et renvoie un entier exprimé dans une base donnée.\n",
        "\n",
        "* `string`\n",
        "\n",
        "> La valeur qu'on souhaite analyser et convertir. Si l'argument string n'est pas une chaîne de caractères, elle sera convertie en une chaîne.\n",
        "\n",
        "* `base`\n",
        "\n",
        "> Un entier compris entre 2 et 36 qui représente la base utilisée pour la valeur représentée dans la chaîne. La base communément utilisée est la base décimale et on utilisera donc 10 dans ce cas pour ce paramètre.\n",
        "\n",
        "* Valeur de retour\n",
        "\n",
        "> Un entier obtenu à partir de l'analyse de la chaîne de caractères. Si le premier caractère ne permet d'obtenir un nombre, ce sera `NaN` qui sera renvoyé.\n",
        "\n",
        "> La fonction parseInt() convertit le premier argument en une chaîne, l'analyse et renvoie un entier ou NaN. Si la valeur renvoyée n'est pas NaN, ce sera l'entier représentant le nombre contenu dans la chaîne dans la base donnée. Une base 10 est utilisée pour la base décimale, 8 pour la base octale, 16 pour la base hexadécimale. Pour les bases supérieures à 10, les lettres de l'alphabet seront utilisées pour représenter les chiffres supérieurs à 9. Par exemple, pour la base hexadécimale, on utilisera les lettres A à F.<br>Si, lors de l'analyse de la chaîne, parseInt() rencontre un caractère qui n'est pas un chiffre dans la base donnée, ce caractère, ainsi que les suivants seront ignorés. parseInt() tronque les nombres fournies en valeurs entières (attention donc lorsque les chaînes utilisent une notation scientifique : \"4e2\" donnera la valeur 4 en base 10 et pas 400). Les espaces en début et en fin de chaîne sont autorisés.<br>Pour des raisons arithmétiques, la valeur NaN n'est un nombre pour aucune base. La fonction isNaN() peut être utilisée pour déterminer si le résultat obtenu par parseInt() vaut NaN.\n",
        "\n#### Les exemples suivants renvoient tous 15 :"
      ],
      "metadata": {}
    },
    {
      "cell_type": "code",
      "source": [
        "parseInt(1101001,2) // va prend le 1101001(string), et le 2(base qui est binary) et va donner la reponse en décimal//"
      ],
      "outputs": [
        {
          "output_type": "execute_result",
          "execution_count": 5,
          "data": {
            "text/plain": [
              "105"
            ]
          },
          "metadata": {}
        }
      ],
      "execution_count": 5,
      "metadata": {}
    },
    {
      "cell_type": "code",
      "source": [
        "parseInt(\"douze\",10);"
      ],
      "outputs": [
        {
          "output_type": "execute_result",
          "execution_count": 6,
          "data": {
            "text/plain": [
              "NaN"
            ]
          },
          "metadata": {}
        }
      ],
      "execution_count": 6,
      "metadata": {}
    },
    {
      "cell_type": "code",
      "source": [
        "console.log(parseInt(\"15\", 10));\n",
        "console.log(parseInt(\" 0xF\", 16));\n",
        "console.log(parseInt(\" F\", 16));\n",
        "console.log(parseInt(\"17\", 8));\n",
        "console.log(parseInt(15.99, 10));    // ne considère plus à partir du point décimal\n",
        "console.log(parseInt(\"15,123\", 10)); // ne considère plus à partir de la virgule\n",
        "console.log(parseInt(\"FXX123\", 16)); // ne considère plus à partir du X\n",
        "console.log(parseInt(\"1111\", 2));\n",
        "console.log(parseInt(\"15*3\", 10));   // ne considère plus à partir du *\n",
        "console.log(parseInt(\"15e2\", 10));   // ne considère plus à partir du e\n",
        "console.log(parseInt(\"15px\", 10));   // ne considère plus à partir du p\n",
        "console.log(parseInt(\"12\", 13));"
      ],
      "outputs": [
        {
          "output_type": "stream",
          "name": "stdout",
          "text": [
            "15\n",
            "15\n",
            "15\n",
            "15\n",
            "15\n",
            "15\n",
            "15\n",
            "15\n",
            "15\n",
            "15\n",
            "15\n",
            "15\n"
          ]
        }
      ],
      "execution_count": 1,
      "metadata": {}
    },
    {
      "cell_type": "markdown",
      "source": [
        "#### Les exemples suivants renvoient NaN"
      ],
      "metadata": {}
    },
    {
      "cell_type": "code",
      "source": [
        "console.log(parseInt(\"Salut\", 10)); // Ce sont des lettres et pas des chiffres\n",
        "console.log(parseInt(\"546\", 2));    // Ces chiffres ne sont pas valides pour une représentation\n",
        "                                    // binaire\n",
        "var x = parseInt('salut',10);\n",
        "if(isNaN(x))\n",
        "    console.log('Pas un nombre');"
      ],
      "outputs": [
        {
          "output_type": "stream",
          "name": "stdout",
          "text": [
            "NaN\n",
            "NaN\n",
            "Pas un nombre\n"
          ]
        }
      ],
      "execution_count": 26,
      "metadata": {}
    },
    {
      "cell_type": "markdown",
      "source": [
        "## Conversions (suite)\n",
        "\n",
        "`parseFloat(string)`\n",
        "\n",
        "La fonction `parseInt()` analyse une chaîne de caractère fournie en argument et renvoie un entier exprimé dans une base donnée.\n",
        "\n",
        "* `string`\n",
        "\n",
        "> Une chaîne de caractères la valeur qu'on souhaite analyser et transformer en un nombre flottant.\n",
        "\n",
        "* Valeur de retour\n",
        "\n> Un nombre flottant obtenu à partir de l'analyse de la chaîne de caractères. Si le premier caractère ne permet pas d'obtenir un nombre, ce sera la valeur NaN qui sera renvoyée."
      ],
      "metadata": {}
    },
    {
      "cell_type": "code",
      "source": [
        "parseFloat(15.25)"
      ],
      "outputs": [
        {
          "output_type": "execute_result",
          "execution_count": 10,
          "data": {
            "text/plain": [
              "15.25"
            ]
          },
          "metadata": {}
        }
      ],
      "execution_count": 10,
      "metadata": {}
    },
    {
      "cell_type": "markdown",
      "source": [
        "## Conversions (suite-2)\n",
        "\n",
        "`numObj.toString([base])`\n",
        "\n",
        "La fonction `parseInt()` analyse une chaîne de caractère fournie en argument et renvoie un entier exprimé dans une base donnée.\n",
        "\n",
        "* `base`\n",
        "\n",
        "> Paramètre optionnel. Un entier compris entre 2 et 36 qui indique la base du système numérique à utiliser pour représenter la valeur.\n",
        "\n",
        "* Valeur de retour\n",
        "\n> Une chaîne de caractères représentant l'objet Number."
      ],
      "metadata": {}
    },
    {
      "cell_type": "code",
      "source": [
        "var x = 15\n",
        "\n",
        "x.toString();\n"
      ],
      "outputs": [
        {
          "output_type": "execute_result",
          "execution_count": 13,
          "data": {
            "text/plain": [
              "'15'"
            ]
          },
          "metadata": {}
        }
      ],
      "execution_count": 13,
      "metadata": {}
    },
    {
      "cell_type": "code",
      "source": [
        "(27).toString(2); //doit mettre des virgule pour isoler 27 et qu'il n'aille pas d'erreur\n",
        "27..toString(2) // doit meme .. plus toString...\n",
        "27 .toString(2) // doit mettre 27 + espace + .toString                               //meilleure forme sont les 2 premieres //"
      ],
      "outputs": [
        {
          "output_type": "execute_result",
          "execution_count": 17,
          "data": {
            "text/plain": [
              "'11011'"
            ]
          },
          "metadata": {}
        }
      ],
      "execution_count": 17,
      "metadata": {}
    },
    {
      "cell_type": "markdown",
      "source": [
        "**Opérateurs d'affectation**"
      ],
      "metadata": {}
    },
    {
      "cell_type": "code",
      "source": [
        "var msg = 'Bonjour';\n",
        "msg += ' ';\n",
        "msg += 'Marco';\n",
        "console.log(msg);"
      ],
      "outputs": [
        {
          "output_type": "stream",
          "name": "stdout",
          "text": [
            "Bonjour Marco\n"
          ]
        }
      ],
      "execution_count": 27,
      "metadata": {}
    },
    {
      "cell_type": "code",
      "source": [
        "var x = '15';\n",
        "console.log(x+1);\n",
        "console.log(parseInt(x,10) + 1);"
      ],
      "outputs": [
        {
          "output_type": "stream",
          "name": "stdout",
          "text": [
            "151\n",
            "16\n"
          ]
        }
      ],
      "execution_count": 28,
      "metadata": {}
    },
    {
      "cell_type": "markdown",
      "source": [
        "# Propriété prédéfinie pour les chaînes"
      ],
      "metadata": {}
    },
    {
      "cell_type": "markdown",
      "source": [
        "**Propriété <span style=\"color:red;font-family:courier;\">str.length</span> -- Longueur d'une chaîne**\n",
        "\nRemarque: proprété en lecture seulement."
      ],
      "metadata": {}
    },
    {
      "cell_type": "code",
      "source": [
        "var longueur = \"Anticonstitutionnellement\".length; // mot le plus long du dictionnaire français\n",
        "console.log(`Anticonstitutionnellement: ${longueur} lettres`);\n",
        "\n",
        "var maryPoppins = 'Supercalifragilisticexpialidocious';\n",
        "console.log(maryPoppins.length);\n",
        "\nconsole.log(''.length);"
      ],
      "outputs": [
        {
          "output_type": "stream",
          "name": "stdout",
          "text": [
            "Anticonstitutionnellement: 25 lettres\n",
            "34\n",
            "0\n"
          ]
        }
      ],
      "execution_count": 30,
      "metadata": {}
    },
    {
      "cell_type": "markdown",
      "source": [
        "**Méthode <span style=\"color:red;font-family:courier;\">indexOf(sousChaine[,indexDebut])</span> -- Recherche d'une sous-chaîne**\n",
        "> Renvoie l'indice de la première occurence de la valeur cherchée au sein de la chaîne courante (à partir de indexDebut). <br>Elle renvoie -1 si la valeur cherchée n'est pas trouvée.\n",
        "\n",
        "**Méthode <span style=\"color:red;font-family:courier;\">lastIndexOf(sousChaine[,indexDebut])</span> -- Recherche d'une sous-chaîne de la droite**\n",
        "\n",
        "**Méthode <span style=\"color:red;font-family:courier;\">includes(sousChaine[,position])</span> -- sous-chaîne présente?**\n",
        "\n> Détermine si une chaîne de caractères est contenue dans une autre et renvoie true ou false selon le cas de figure."
      ],
      "metadata": {}
    },
    {
      "cell_type": "code",
      "source": [
        "var motLong = \"Anticonstitutionnellement\";\n",
        "var positionConst = motLong.indexOf('const');\n",
        "console.log(positionConst);\n",
        "console.log(\"Anticonstitutionnellement\".indexOf('ment'));\n",
        "console.log(\"Anticonstitutionnellement\".includes('ment'));\n",
        "console.log(\"Anticonstitutionnellement\".indexOf('ti'));\n",
        "console.log(\"Anticonstitutionnellement\".lastIndexOf('ti'));"
      ],
      "outputs": [
        {
          "output_type": "stream",
          "name": "stdout",
          "text": [
            "4\n",
            "21\n",
            "true\n",
            "2\n",
            "12\n"
          ]
        }
      ],
      "execution_count": 41,
      "metadata": {}
    },
    {
      "cell_type": "markdown",
      "source": [
        "> Si la sous-chaîne est absente, la fonction retourne la valeur -1."
      ],
      "metadata": {}
    },
    {
      "cell_type": "code",
      "source": [
        "var positionMarco = motLong.indexOf('marco');\n",
        "console.log('Trouve \\'Marco\\' à la position:' + positionMarco);"
      ],
      "outputs": [
        {
          "output_type": "stream",
          "name": "stdout",
          "text": [
            "Trouve 'Marco' à la position:-1\n"
          ]
        }
      ],
      "execution_count": 33,
      "metadata": {}
    },
    {
      "cell_type": "code",
      "source": [
        "console.log('Havana, ooh na-na'.indexOf('na')); // Trouve seulement la 1re occurrence"
      ],
      "outputs": [
        {
          "output_type": "stream",
          "name": "stdout",
          "text": [
            "4\n"
          ]
        }
      ],
      "execution_count": 36,
      "metadata": {}
    },
    {
      "cell_type": "code",
      "source": [
        "var mot = 'ouistiti'; // mot de 8 lettres\n",
        "        // 01234567\n",
        "console.log(mot.lastIndexOf('i'));\n",
        "console.log(mot.lastIndexOf('i',1)); \n",
        "console.log(mot.lastIndexOf('i',2));\n",
        "console.log(mot.lastIndexOf('i', mot.length-1));\n",
        "console.log(mot.lastIndexOf('i', mot.length-2));"
      ],
      "outputs": [
        {
          "output_type": "stream",
          "name": "stdout",
          "text": [
            "7\n",
            "-1\n",
            "2\n",
            "7\n",
            "5\n"
          ]
        }
      ],
      "execution_count": 40,
      "metadata": {}
    },
    {
      "cell_type": "markdown",
      "source": [
        "**Méthode <span style=\"color:red;font-family:courier;\">toLowerCase()</span> -- Convertir la chaîne en lettres minuscules**"
      ],
      "metadata": {}
    },
    {
      "cell_type": "code",
      "source": [
        "var college = 'Cégep de Thetford';\n",
        "console.log(\"Appellation: \" + college.toLowerCase() );"
      ],
      "outputs": [
        {
          "output_type": "stream",
          "name": "stdout",
          "text": [
            "Appellation: cégep de thetford\n"
          ]
        }
      ],
      "execution_count": 43,
      "metadata": {}
    },
    {
      "cell_type": "markdown",
      "source": [
        "**Méthode <span style=\"color:red;font-family:courier;\">toUpperCase()</span> -- Convertir la chaîne en lettres majuscules**"
      ],
      "metadata": {}
    },
    {
      "cell_type": "code",
      "source": [
        "var college = 'Cégep de Thetford';\n",
        "console.log(\"Appellation: \" + college.toUpperCase());"
      ],
      "outputs": [
        {
          "output_type": "stream",
          "name": "stdout",
          "text": [
            "Appellation: CÉGEP DE THETFORD\n"
          ]
        }
      ],
      "execution_count": 44,
      "metadata": {}
    },
    {
      "cell_type": "markdown",
      "source": [
        "**Méthode <span style=\"color:red;font-family:courier;\">slice(indiceDebut[,indiceFin])</span> -- Découpage de la chaîne (*slicing*)**\n",
        "****\n",
        "> Extrait une section d'une chaine de caractères et la retourne comme une nouvelle chaine de caractères. <br>La chaîne de caractères courante n'est pas modifiée.\n",
        "\n",
        "* `indiceDebut`\n",
        "\n",
        "> L'indice base 0 auquel commencer l'extraction. <br>Si négatif, il est traité comme (longueurSource + indiceDebut) où longueurSource est la longueur de la chaine de caractères (par exemple, si indiceDebut est -3, il sera traité comme longueurSource - 3). <br>Si indiceDebut est supérieur à la longueur de la chaîne, slice() renvoie une chaîne vide.\n",
        "\n",
        "* `indiceFin`\n",
        "\n> Paramètre optionnel. <br>Un indice base 0 **avant** lequel terminer l'extraction. <br>Le caractère à cet indice ne sera pas inclus. <br>Si indiceFin est absent, slice() extraira jusqu'à la fin de la chaine de caractères. Si négatif, il sera traité comme (longueurSource + indiceFin) où longueurSource est la longueur de la chaine de caractères (par exemple s'il vaut -3, il sera traité comme longueurSource - 3)"
      ],
      "metadata": {}
    },
    {
      "cell_type": "code",
      "source": [
        "var chaine = 'ABCDEF'; // 6 lettres\n",
        "var extrait = chaine.slice(1,4);\n",
        "console.log(`Extrait [1:4] de ${chaine} : ${extrait}`);\n",
        "extrait = chaine.slice(2,3); // idem charAt(2)\n",
        "console.log(`Extrait [2:3] de ${chaine} : ${extrait}`);\n",
        "extrait = chaine.slice(2,2);\n",
        "console.log(`Extrait [1:4] de ${chaine} : .${extrait}.`);"
      ],
      "outputs": [
        {
          "output_type": "stream",
          "name": "stdout",
          "text": [
            "Extrait [1:4] de ABCDEF : BCD\n",
            "Extrait [2:3] de ABCDEF : C\n",
            "Extrait [1:4] de ABCDEF : ..\n"
          ]
        }
      ],
      "execution_count": 46,
      "metadata": {}
    },
    {
      "cell_type": "code",
      "source": [
        "var motLong = \"Anticonstitutionnellement\";\n",
        "var depart = 4;\n",
        "var fin = 16; // Position après la dernière lettre\n",
        "console.log('Sous-mot: ' + motLong.slice(depart, fin));"
      ],
      "outputs": [
        {
          "output_type": "stream",
          "name": "stdout",
          "text": [
            "Sous-mot: constitution\n"
          ]
        }
      ],
      "execution_count": 47,
      "metadata": {}
    },
    {
      "cell_type": "code",
      "source": [
        "var prenom = 'Marcel';\n",
        "console.log(prenom.indexOf('e'));\n",
        "console.log('Diminutif de Marcel: ' + prenom.slice(0, prenom.indexOf('e')) );"
      ],
      "outputs": [
        {
          "output_type": "stream",
          "name": "stdout",
          "text": [
            "4\n",
            "Diminutif de Marcel: Marc\n"
          ]
        }
      ],
      "execution_count": 48,
      "metadata": {}
    },
    {
      "cell_type": "code",
      "source": [
        "console.log('Anti-social'.slice(5));\n",
        "// pas faire-> console.log('Anti-social'.slice(5,'Anti-social'.length));"
      ],
      "outputs": [
        {
          "output_type": "stream",
          "name": "stdout",
          "text": [
            "social\n"
          ]
        }
      ],
      "execution_count": 49,
      "metadata": {}
    },
    {
      "cell_type": "markdown",
      "source": [
        "**Méthode <span style=\"color:red;font-family:courier;\">charAt(indice)</span> -- Caractère à la position**\n",
        "\n\n",
        "* `indice`\n",
        "\n",
        "> Un entier entre 0 et la longueur de la chaîne - 1. <br>Si aucun index n'est fourni (ce qui correspond à fournir undefined), la recherche sera effectuée à l'index 0 et le premier caractère sera donc renvoyé.\n",
        "\n",
        "* Valeur de retour\n",
        "\n> Une chaîne de caractères qui représente le point de code UTF-16 à la position indiquée. <br>Si la position est dehors de la chaîne, ce sera une chaîne vide."
      ],
      "metadata": {}
    },
    {
      "cell_type": "code",
      "source": [
        "var mot = \"Bonjour le monde\"\n",
        "\n",
        "console.log(mot.charAt(0));    // premier caractère\n",
        "console.log(mot.slice(0,3));   // trois premiers caractères\n",
        "console.log(mot.slice(-3));    // trois derniers caractères\n",
        "console.log(mot.slice(3));     // tous les caractères sauf les trois premiers\n",
        "console.log(mot.slice(0,-3));  // tous les caractères sauf les trois derniers"
      ],
      "outputs": [
        {
          "output_type": "stream",
          "name": "stdout",
          "text": [
            "B\n",
            "Bon\n",
            "nde\n",
            "jour le monde\n",
            "Bonjour le mo\n"
          ]
        }
      ],
      "execution_count": 50,
      "metadata": {}
    },
    {
      "cell_type": "markdown",
      "source": [
        "**Technique pour le dénombrer les occurrences d'une sous-chaîne**"
      ],
      "metadata": {}
    },
    {
      "cell_type": "code",
      "source": [
        "var druide = 'Abraracourcix';\n",
        "var nbLettresR = druide.split('r').length-1;\n",
        "console.log(`Nombre de \"r\" dans ${druide}: ${nbLettresR}` );\n",
        "druide.split('r');"
      ],
      "outputs": [
        {
          "output_type": "stream",
          "name": "stdout",
          "text": [
            "Nombre de \"r\" dans Abraracourcix: 3\n"
          ]
        },
        {
          "output_type": "execute_result",
          "execution_count": 53,
          "data": {
            "text/plain": [
              "[ 'Ab', 'a', 'acou', 'cix' ]"
            ]
          },
          "metadata": {}
        }
      ],
      "execution_count": 53,
      "metadata": {}
    },
    {
      "cell_type": "code",
      "source": [
        "var emphaseHello = 'helllllo';\n",
        "console.log('Nombre de   \\'l\\': ' + (emphaseHello.split('l').length-1));\n",
        "console.log('Nombre de \\'lll\\': ' + (emphaseHello.split('lll').length-1)); // séquences disjointes\n",
        "console.log('Nombre de  \\'ll\\': ' + (emphaseHello.split('ll').length-1));  // séquences disjointes\n",
        "emphaseHello.split('l');"
      ],
      "outputs": [
        {
          "output_type": "stream",
          "name": "stdout",
          "text": [
            "Nombre de   'l': 5\n",
            "Nombre de 'lll': 1\n",
            "Nombre de  'll': 2\n"
          ]
        },
        {
          "output_type": "execute_result",
          "execution_count": 58,
          "data": {
            "text/plain": [
              "[ 'he', '', '', '', '', 'o' ]"
            ]
          },
          "metadata": {}
        }
      ],
      "execution_count": 58,
      "metadata": {}
    },
    {
      "cell_type": "code",
      "source": [
        "'Marco Guay'.split(' '); // division sur l'espace"
      ],
      "outputs": [
        {
          "output_type": "execute_result",
          "execution_count": 59,
          "data": {
            "text/plain": [
              "[ 'Marco', 'Guay' ]"
            ]
          },
          "metadata": {}
        }
      ],
      "execution_count": 59,
      "metadata": {}
    },
    {
      "cell_type": "code",
      "source": [
        "'Louis-Joseph de Montcalm'.split(' de ');"
      ],
      "outputs": [
        {
          "output_type": "execute_result",
          "execution_count": 60,
          "data": {
            "text/plain": [
              "[ 'Louis-Joseph', 'Montcalm' ]"
            ]
          },
          "metadata": {}
        }
      ],
      "execution_count": 60,
      "metadata": {}
    },
    {
      "cell_type": "code",
      "source": [
        "'Il était une fois'.split(' ');"
      ],
      "outputs": [
        {
          "output_type": "execute_result",
          "execution_count": 61,
          "data": {
            "text/plain": [
              "[ 'Il', 'était', 'une', 'fois' ]"
            ]
          },
          "metadata": {}
        }
      ],
      "execution_count": 61,
      "metadata": {}
    },
    {
      "cell_type": "code",
      "source": [
        "'indivisible'.split(' ');"
      ],
      "outputs": [
        {
          "output_type": "execute_result",
          "execution_count": 62,
          "data": {
            "text/plain": [
              "[ 'indivisible' ]"
            ]
          },
          "metadata": {}
        }
      ],
      "execution_count": 62,
      "metadata": {}
    },
    {
      "cell_type": "markdown",
      "source": [
        "**Méthodes <span style=\"color:red;font-family:courier;\">startsWith(sousChaine[,position])</span>, <span style=\"color:red;font-family:courier;\">endsWith(sousChaine[,position])</span> -- Détermine si la chaîne débute ou se termine par une sous-chaîne.**"
      ],
      "metadata": {}
    },
    {
      "cell_type": "code",
      "source": [
        "console.log(\"Adam et Eve\".startsWith('Ada'));\n",
        "console.log(\"Adam et Eve\".endsWith('ve'));\n",
        "console.log(\"Adam et Eve\".startsWith('ada'));\n",
        "console.log(\"Adam et Eve\".endsWith('vE'));\n",
        "\n",
        "console.log(\"Adam et Eve\".toLowerCase().startsWith('ada'));\n"
      ],
      "outputs": [
        {
          "output_type": "stream",
          "name": "stdout",
          "text": [
            "true\n",
            "true\n",
            "false\n",
            "false\n",
            "true\n"
          ]
        }
      ],
      "execution_count": 63,
      "metadata": {}
    },
    {
      "cell_type": "markdown",
      "source": [
        "**Méthode <span style=\"color:red;font-family:courier;\">replace(recherche,remplace)</span> -- Remplacement de sous-chaîne (version simple)**"
      ],
      "metadata": {}
    },
    {
      "cell_type": "code",
      "source": [
        "console.log('Bonjour monsieur'.replace('Bonjour','Bon matin'));"
      ],
      "outputs": [
        {
          "output_type": "stream",
          "name": "stdout",
          "text": [
            "Bon matin monsieur\n"
          ]
        }
      ],
      "execution_count": 64,
      "metadata": {}
    },
    {
      "cell_type": "code",
      "source": [
        "console.log('Bonjour monsieur'.replace('Salut','Bon matin')); // Chaîne inchangée"
      ],
      "outputs": [
        {
          "output_type": "stream",
          "name": "stdout",
          "text": [
            "Bonjour monsieur\n"
          ]
        }
      ],
      "execution_count": 65,
      "metadata": {}
    },
    {
      "cell_type": "code",
      "source": [
        "// Remplace 1 seule occurrence\n",
        "console.log('Une variable,genre est genre comme une zone mémoire genre'.replace('genre',''));\n",
        "\n",
        "// Pour modifier plusieurs occurrences, il faudra utiliser une expression régulière (traité plus tard). \n",
        "// Voici tout de même un exemple:\n",
        "console.log('Une variable,genre est genre comme une zone mémoire genre'.replace(/genre/g,'')); //probleme avec voyelle"
      ],
      "outputs": [
        {
          "output_type": "stream",
          "name": "stdout",
          "text": [
            "Une variable, est genre comme une zone mémoire genre\n",
            "Une variable, est  comme une zone mémoire \n"
          ]
        }
      ],
      "execution_count": 67,
      "metadata": {}
    },
    {
      "cell_type": "markdown",
      "source": [
        "## Autres transformations"
      ],
      "metadata": {}
    },
    {
      "cell_type": "code",
      "source": [
        "'  - Informatique    '.trim();"
      ],
      "outputs": [
        {
          "output_type": "execute_result",
          "execution_count": 68,
          "data": {
            "text/plain": [
              "'- Informatique'"
            ]
          },
          "metadata": {}
        }
      ],
      "execution_count": 68,
      "metadata": {}
    },
    {
      "cell_type": "code",
      "source": [
        "'  - Informatique    '.trimLeft();"
      ],
      "outputs": [
        {
          "output_type": "execute_result",
          "execution_count": 71,
          "data": {
            "text/plain": [
              "'- Informatique    '"
            ]
          },
          "metadata": {}
        }
      ],
      "execution_count": 71,
      "metadata": {}
    },
    {
      "cell_type": "code",
      "source": [
        "'  - Informatique    '.trimRight();"
      ],
      "outputs": [
        {
          "output_type": "execute_result",
          "execution_count": 73,
          "data": {
            "text/plain": [
              "'  - Informatique'"
            ]
          },
          "metadata": {}
        }
      ],
      "execution_count": 73,
      "metadata": {}
    },
    {
      "cell_type": "code",
      "source": [
        "'-='.repeat(5);"
      ],
      "outputs": [
        {
          "output_type": "execute_result",
          "execution_count": 75,
          "data": {
            "text/plain": [
              "'-=-=-=-=-='"
            ]
          },
          "metadata": {}
        }
      ],
      "execution_count": 75,
      "metadata": {}
    },
    {
      "cell_type": "code",
      "source": [
        "'Adam'.concat(' Bernard', ' jr');"
      ],
      "outputs": [
        {
          "output_type": "execute_result",
          "execution_count": 77,
          "data": {
            "text/plain": [
              "'Adam Bernard jr'"
            ]
          },
          "metadata": {}
        }
      ],
      "execution_count": 77,
      "metadata": {}
    }
  ],
  "metadata": {
    "kernelspec": {
      "display_name": "Javascript (Node.js)",
      "language": "javascript",
      "name": "javascript"
    },
    "language_info": {
      "file_extension": ".js",
      "mimetype": "application/javascript",
      "name": "javascript",
      "version": "4.2.6"
    },
    "nteract": {
      "version": "0.11.7"
    }
  },
  "nbformat": 4,
  "nbformat_minor": 2
}