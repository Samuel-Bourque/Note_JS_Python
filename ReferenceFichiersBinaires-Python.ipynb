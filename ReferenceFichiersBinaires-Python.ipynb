{
 "cells": [
  {
   "cell_type": "markdown",
   "metadata": {},
   "source": [
    "<img style='margin-right:0' src=\"http://dinfo.ca/logoDptInfo.jpg\" width=300>\n",
    "\n",
    "# Référence Fichiers Binaires (Python)\n",
    "---"
   ]
  },
  {
   "cell_type": "code",
   "execution_count": 3,
   "metadata": {},
   "outputs": [
    {
     "name": "stdout",
     "output_type": "stream",
     "text": [
      "39\n"
     ]
    }
   ],
   "source": [
    "print('%x' % ord('9'))"
   ]
  },
  {
   "cell_type": "code",
   "execution_count": 4,
   "metadata": {},
   "outputs": [
    {
     "name": "stdout",
     "output_type": "stream",
     "text": [
      "1234\r\n",
      "1111\r\n",
      "2222\r\n",
      "3333"
     ]
    }
   ],
   "source": [
    "!cat untitled.txt"
   ]
  },
  {
   "cell_type": "code",
   "execution_count": 5,
   "metadata": {},
   "outputs": [
    {
     "name": "stdout",
     "output_type": "stream",
     "text": [
      "00000000: 3132 3334 0a31 3131 310a 3232 3232 0a33  1234.1111.2222.3\r\n",
      "00000010: 3333 33                                  333\r\n"
     ]
    }
   ],
   "source": [
    "!xxd untitled.txt"
   ]
  },
  {
   "cell_type": "markdown",
   "metadata": {},
   "source": [
    "Pour la manipulation de bas niveau, nous utiliserons le module `struct` pour encoder (`.pack()`) et décoder(`.unpack()`) nos séquences binaires.\n",
    "\n",
    "**Syntaxe**:\n",
    "```python\n",
    "struct.pack(fmt, v1, v2, ...)\n",
    "struct.unpack(fmt, buffer)\n",
    "struct.calcsize(fmt)¶\n",
    "```\n",
    "\n",
    "#### Struct (chaîne de formatage)\n",
    "\n",
    "| Format | Représentation   | Taille              |\n",
    "|--------|------------------|---------------------|\n",
    "| `c`    | caractère        | 1 octet                    \n",
    "| `b`    | entier signé     | 1 octet\n",
    "| `B`    | entier non-signé |1 octet\n",
    "| `?`    | booléen          | 1 octet\n",
    "| `h`    | entier signé     | 2 octets\n",
    "| `H`    | entier non-signé | 2 octets\n",
    "| `i`    | entier signé     | 4 octets\n",
    "| `I`    | entier non-signé | 4 octets\n",
    "| `l`    | entier signé     | 4 octets\n",
    "| `L`    | entier non-signé | 4 octets\n",
    "| `q`    | entier signé     | 8 octets\n",
    "| `Q`    | entier non-signé | 8 octets\n",
    "| `f`    | point-flottant<br>simple-précision | 4 octets\n",
    "| `d`    | point-flottant<br>double-précision | 8 octets\n",
    "| `s`    | chaîne de caractères<br> | (préciser la taille)\n",
    "\n",
    "| Format | Ordre des octets | Alignement        |\n",
    "|--------|------------------|---------------------|\n",
    "| `@`    | natif            | natif\n",
    "| `=`    | natif            | aucun\n",
    "| `<`    | little-endian    | aucun\n",
    "| `>`    | big-endian       | aucun\n"
   ]
  },
  {
   "cell_type": "markdown",
   "metadata": {},
   "source": [
    "#### Exemple 1 \n",
    "\n",
    "```python\n",
    "  struct.pack('<hhh', -2,1,258)\n",
    "```"
   ]
  },
  {
   "cell_type": "code",
   "execution_count": 8,
   "metadata": {},
   "outputs": [
    {
     "name": "stdout",
     "output_type": "stream",
     "text": [
      "b'\\xfe\\xff\\x01\\x00\\x02\\x01'\n",
      "Taille: 6\n"
     ]
    }
   ],
   "source": [
    "import struct\n",
    "print(struct.pack('<hhh', -2,1,258))\n",
    "print('Taille:', struct.calcsize('<hhh'))"
   ]
  },
  {
   "cell_type": "markdown",
   "metadata": {},
   "source": [
    "#### Exemple 2 \n",
    "\n",
    "```python\n",
    "  struct.pack('>d', 4.5)\n",
    "```"
   ]
  },
  {
   "cell_type": "code",
   "execution_count": 13,
   "metadata": {},
   "outputs": [
    {
     "name": "stdout",
     "output_type": "stream",
     "text": [
      "40 12 00 00 00 00 00 00 \n",
      "Taille: 8\n"
     ]
    }
   ],
   "source": [
    "import struct\n",
    "octets = struct.pack('>d', 4.5)\n",
    "for unOctet in octets:\n",
    "    print(\"%02x\" % unOctet,end=' ')\n",
    "print('\\nTaille:', struct.calcsize('>d'))"
   ]
  },
  {
   "cell_type": "markdown",
   "metadata": {},
   "source": [
    "Preuve: http://www.binaryconvert.com/result_double.html?decimal=052046053"
   ]
  },
  {
   "cell_type": "code",
   "execution_count": 14,
   "metadata": {},
   "outputs": [
    {
     "name": "stdout",
     "output_type": "stream",
     "text": [
      "19\n"
     ]
    }
   ],
   "source": [
    "import struct #P-E à l'examen\n",
    "print( struct.calcsize('<hhihbbbhi') )"
   ]
  },
  {
   "cell_type": "markdown",
   "metadata": {},
   "source": [
    "## Encoder des chaînes de caractères\n",
    "\n",
    "Avec le format 's', par exemple '5s', on représente les octets de la chaîne sur 5 octets.  \n",
    "\n",
    "Considérons d'abord des caractères ASCII 7 bits (1 caractère = 1 octet).\n",
    "\n",
    "Si on encode `ABCDE`, nous aurons les cinq octets stockés."
   ]
  },
  {
   "cell_type": "code",
   "execution_count": 7,
   "metadata": {},
   "outputs": [
    {
     "name": "stdout",
     "output_type": "stream",
     "text": [
      "41 42 43 44 45 \n",
      " A  B  C  D  E \n"
     ]
    }
   ],
   "source": [
    "import struct\n",
    "octets = struct.pack('5s', 'ABCDE'.encode('ascii'))\n",
    "for unOctet in octets:\n",
    "    print(\"%x\" % unOctet,end=' ')\n",
    "print('')\n",
    "for unOctet in octets:\n",
    "    print(\" %c\" % unOctet,end=' ')\n",
    "print('')"
   ]
  },
  {
   "cell_type": "markdown",
   "metadata": {},
   "source": [
    "Qu'arrive-t-il si on a seulement 3 lettres pour un espace de 5 caractères?\n",
    "Les caractères inutilisés sont annotés en zéro binaire."
   ]
  },
  {
   "cell_type": "code",
   "execution_count": 18,
   "metadata": {},
   "outputs": [
    {
     "name": "stdout",
     "output_type": "stream",
     "text": [
      "41 42 43 00 00 \n",
      " A  B  C  \u0000  \u0000 \n"
     ]
    }
   ],
   "source": [
    "import struct\n",
    "octets = struct.pack('5s', 'ABC'.encode('ascii'))\n",
    "for unOctet in octets:\n",
    "    print(\"%02x\" % unOctet,end=' ')\n",
    "print('')\n",
    "for unOctet in octets:\n",
    "    print(\" %c\" % unOctet,end=' ')\n",
    "print('')"
   ]
  },
  {
   "cell_type": "markdown",
   "metadata": {},
   "source": [
    "S'il y en a plus? Tronqués..."
   ]
  },
  {
   "cell_type": "code",
   "execution_count": 19,
   "metadata": {},
   "outputs": [
    {
     "name": "stdout",
     "output_type": "stream",
     "text": [
      "41 42 43 44 45 \n",
      " A  B  C  D  E \n"
     ]
    }
   ],
   "source": [
    "import struct\n",
    "octets = struct.pack('5s', 'ABCDEFGH'.encode('ascii'))\n",
    "for unOctet in octets:\n",
    "    print(\"%x\" % unOctet,end=' ')\n",
    "print('')\n",
    "for unOctet in octets:\n",
    "    print(\" %c\" % unOctet,end=' ')\n",
    "print('')"
   ]
  },
  {
   "cell_type": "markdown",
   "metadata": {},
   "source": [
    "### Encodage\n",
    "\n",
    "Qu'arrive-t-il si on tente d'encoder une lettre accentuée?"
   ]
  },
  {
   "cell_type": "code",
   "execution_count": 11,
   "metadata": {},
   "outputs": [
    {
     "ename": "UnicodeEncodeError",
     "evalue": "'ascii' codec can't encode character '\\xe9' in position 0: ordinal not in range(128)",
     "output_type": "error",
     "traceback": [
      "\u001b[0;31m---------------------------------------------------------------------------\u001b[0m",
      "\u001b[0;31mUnicodeEncodeError\u001b[0m                        Traceback (most recent call last)",
      "\u001b[0;32m<ipython-input-11-c5b2d7fdae20>\u001b[0m in \u001b[0;36m<module>\u001b[0;34m()\u001b[0m\n\u001b[0;32m----> 1\u001b[0;31m \u001b[0;34m'é'\u001b[0m\u001b[0;34m.\u001b[0m\u001b[0mencode\u001b[0m\u001b[0;34m(\u001b[0m\u001b[0;34m'ascii'\u001b[0m\u001b[0;34m)\u001b[0m\u001b[0;34m\u001b[0m\u001b[0m\n\u001b[0m",
      "\u001b[0;31mUnicodeEncodeError\u001b[0m: 'ascii' codec can't encode character '\\xe9' in position 0: ordinal not in range(128)"
     ]
    }
   ],
   "source": [
    "'é'.encode('ascii')"
   ]
  },
  {
   "cell_type": "markdown",
   "metadata": {},
   "source": [
    "Normal d'avoir une erreur car ce caractère Unicode est `00C9`.  \n",
    "\n",
    "Pour l'encodage ISO-8859-1 (latin-1), on pourra le mettre sur un octet.\n",
    "\n",
    "Pour l'encodage UTF-8, il sera sur deux octets."
   ]
  },
  {
   "cell_type": "code",
   "execution_count": 13,
   "metadata": {},
   "outputs": [
    {
     "name": "stdout",
     "output_type": "stream",
     "text": [
      "ISO-8859-1: 1\n",
      "e9 \n",
      "UTF-8     : 2\n",
      "c3 a9 \n"
     ]
    }
   ],
   "source": [
    "print('ISO-8859-1:', len('é'.encode('iso-8859-1')) )\n",
    "for unOctet in 'é'.encode('iso-8859-1'):\n",
    "    print(\"%x\" % unOctet,end=' ')\n",
    "print('')\n",
    "print('UTF-8     :', len('é'.encode('UTF-8')) )\n",
    "for unOctet in 'é'.encode('UTF-8'):\n",
    "    print(\"%x\" % unOctet,end=' ')\n",
    "print('')"
   ]
  },
  {
   "cell_type": "markdown",
   "metadata": {},
   "source": [
    "Référence: http://www.ltg.ed.ac.uk/~richard/utf-8.cgi?input=%C3%A9&mode=char"
   ]
  },
  {
   "cell_type": "markdown",
   "metadata": {},
   "source": [
    "Qu'arrive-t-il avec un caractère cyrillique?"
   ]
  },
  {
   "cell_type": "code",
   "execution_count": 15,
   "metadata": {},
   "outputs": [
    {
     "name": "stdout",
     "output_type": "stream",
     "text": [
      "UTF-8: 21\n",
      "d0 94 d0 be d0 b1 d1 80 d0 be d0 b5 20 d1 83 d1 82 d1 80 d0 be \n"
     ]
    }
   ],
   "source": [
    "print('UTF-8:', len('Доброе утро'.encode('utf-8')) )\n",
    "for unOctet in 'Доброе утро'.encode('utf-8'):\n",
    "    print(\"%x\" % unOctet,end=' ')\n",
    "print('')"
   ]
  },
  {
   "cell_type": "markdown",
   "metadata": {},
   "source": [
    "Référence: http://www.ltg.ed.ac.uk/~richard/utf-8.cgi?input=%D0%94&mode=char"
   ]
  },
  {
   "cell_type": "code",
   "execution_count": 27,
   "metadata": {},
   "outputs": [
    {
     "name": "stdout",
     "output_type": "stream",
     "text": [
      "UTF-8: 4\n",
      "f0 9f 98 8e \n",
      "Unicode: 01f60e\n"
     ]
    }
   ],
   "source": [
    "print('UTF-8:', len('😎'.encode('utf-8')) )\n",
    "for unOctet in '😎'.encode('utf-8'):\n",
    "    print(\"%x\" % unOctet,end=' ')\n",
    "print('')\n",
    "print('Unicode: %06x' % ord(u'😎'))"
   ]
  },
  {
   "cell_type": "markdown",
   "metadata": {},
   "source": [
    "Référence: http://www.ltg.ed.ac.uk/~richard/utf-8.cgi?input=%F0%9F%98%8E&mode=char"
   ]
  }
 ],
 "metadata": {
  "kernelspec": {
   "display_name": "Python 3",
   "language": "python",
   "name": "python3"
  },
  "language_info": {
   "codemirror_mode": {
    "name": "ipython",
    "version": 3
   },
   "file_extension": ".py",
   "mimetype": "text/x-python",
   "name": "python",
   "nbconvert_exporter": "python",
   "pygments_lexer": "ipython3",
   "version": "3.5.2"
  }
 },
 "nbformat": 4,
 "nbformat_minor": 2
}
