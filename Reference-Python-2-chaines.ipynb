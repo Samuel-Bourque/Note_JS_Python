{
 "cells": [
  {
   "cell_type": "markdown",
   "metadata": {},
   "source": [
    "<img style='margin-right:0' src=\"http://dinfo.ca/logoDptInfo.jpg\" width=300>\n",
    "\n",
    "# Référence Python (chaînes)\n",
    "---"
   ]
  },
  {
   "cell_type": "markdown",
   "metadata": {},
   "source": [
    "**Opérateurs**\n",
    "\n",
    "> Concaténation\n",
    "\n",
    "> Duplication (multiplication)\n",
    "\n",
    "**Fonction**\n",
    "\n",
    "> len(chaine)\n",
    "\n",
    "**Méthodes**\n",
    "\n",
    "| &nbsp; | &nbsp; | &nbsp; | &nbsp; | &nbsp; |\n",
    "|----------------|--------------|-------------|------------|-----------|\n",
    "| **capitalize** | **index**    | **istitle** | rindex     | **title** |\n",
    "| casefold       | **isalnum**  | **isupper** | rjust      | translate |\n",
    "| center         | **isalpha**  | join        | rpartition | **upper** |\n",
    "| **count**      | isdecimal    | ljust       | rsplit     | zfill     |\n",
    "| encode         | **isdigit**  | **lower**   | **rstrip** |           |\n",
    "| **endswith**   | isidentifier | **lstrip**  | **split**  |           |\n",
    "| expandtabs     | **islower**  | maketrans   | splitlines |           |\n",
    "| **find**       | isnumeric    | partition   | **startswith** |       |\n",
    "| format         | isprintable  | **replace** | **strip**      |       |  \n",
    "| format_map     | isspace      | rfind       | **swapcase**   |       |\n",
    "\n",
    "N.B.: Les méthodes **en gras** sont traitées dans cette référence."
   ]
  },
  {
   "cell_type": "code",
   "execution_count": 32,
   "metadata": {
    "scrolled": true
   },
   "outputs": [
    {
     "name": "stdout",
     "output_type": "stream",
     "text": [
      "Help on method_descriptor:\n",
      "\n",
      "find(...)\n",
      "    S.find(sub[, start[, end]]) -> int\n",
      "    \n",
      "    Return the lowest index in S where substring sub is found,\n",
      "    such that sub is contained within S[start:end].  Optional\n",
      "    arguments start and end are interpreted as in slice notation.\n",
      "    \n",
      "    Return -1 on failure.\n",
      "\n"
     ]
    }
   ],
   "source": [
    "# Permet d'obtenir la *docstring* de la méthode\n",
    "help(str.find)"
   ]
  },
  {
   "cell_type": "markdown",
   "metadata": {},
   "source": [
    "---\n",
    "# Opérateurs: concaténation (+) et répétition (*)"
   ]
  },
  {
   "cell_type": "markdown",
   "metadata": {},
   "source": [
    "**Concaténation**\n",
    "\n",
    "> Permet de joindre ensemble deux chaînes."
   ]
  },
  {
   "cell_type": "code",
   "execution_count": 4,
   "metadata": {},
   "outputs": [
    {
     "data": {
      "text/plain": [
       "'ABCDEF'"
      ]
     },
     "execution_count": 4,
     "metadata": {},
     "output_type": "execute_result"
    }
   ],
   "source": [
    "\"ABC\" + \"DEF\""
   ]
  },
  {
   "cell_type": "code",
   "execution_count": 5,
   "metadata": {},
   "outputs": [
    {
     "name": "stdout",
     "output_type": "stream",
     "text": [
      "Samuel Bourque\n"
     ]
    }
   ],
   "source": [
    "nom = 'Bourque'\n",
    "prenom = 'Samuel'\n",
    "nomComplet = prenom + ' ' + nom\n",
    "print(nomComplet)"
   ]
  },
  {
   "cell_type": "code",
   "execution_count": 6,
   "metadata": {},
   "outputs": [
    {
     "name": "stdout",
     "output_type": "stream",
     "text": [
      "Cégep de Thetford\n"
     ]
    }
   ],
   "source": [
    "cegep = 'Cégep' + ' ' + 'de ' + 'Thetford'\n",
    "print(cegep)"
   ]
  },
  {
   "cell_type": "markdown",
   "metadata": {},
   "source": [
    "** Concaténation -- cas particulier **\n",
    "\n",
    "Qu'arrive-t-il si on concatène une chaîne avec un nombre (entier ou fractionnaire)?"
   ]
  },
  {
   "cell_type": "code",
   "execution_count": 4,
   "metadata": {},
   "outputs": [
    {
     "ename": "TypeError",
     "evalue": "Can't convert 'int' object to str implicitly",
     "output_type": "error",
     "traceback": [
      "\u001b[0;31m---------------------------------------------------------------------------\u001b[0m",
      "\u001b[0;31mTypeError\u001b[0m                                 Traceback (most recent call last)",
      "\u001b[0;32m<ipython-input-4-f38a1b013f1b>\u001b[0m in \u001b[0;36m<module>\u001b[0;34m()\u001b[0m\n\u001b[0;32m----> 1\u001b[0;31m \u001b[0mprint\u001b[0m\u001b[0;34m(\u001b[0m\u001b[0;34m\"Age requis: \"\u001b[0m \u001b[0;34m+\u001b[0m \u001b[0;36m12\u001b[0m\u001b[0;34m)\u001b[0m\u001b[0;34m\u001b[0m\u001b[0m\n\u001b[0m",
      "\u001b[0;31mTypeError\u001b[0m: Can't convert 'int' object to str implicitly"
     ]
    }
   ],
   "source": [
    "print(\"Age requis: \" + 12)"
   ]
  },
  {
   "cell_type": "markdown",
   "metadata": {},
   "source": [
    "## Conversions\n",
    "\n",
    "Il faut convertir notre nombre avec une représentation *chaîne de caractères*.\n",
    "\n",
    "| de/vers | int       | float         | str          |\n",
    "|---------|-----------|---------------|--------------|\n",
    "| int     | ---       | `float(47)`     | `str(47)`      |\n",
    "| float   | `int(1.2)`  | ---           | `str(3.14159)` |\n",
    "| str     | `int('12')` | `float('12.3')` | ---          |\n",
    "\n",
    "> NOTE: Transtypage implicite entre entier et fractionnaire.<br>`1.2 + 5` équivalent à `1.2 + float(5)`"
   ]
  },
  {
   "cell_type": "code",
   "execution_count": 2,
   "metadata": {},
   "outputs": [
    {
     "name": "stdout",
     "output_type": "stream",
     "text": [
      "Age requis: 12\n"
     ]
    }
   ],
   "source": [
    "print(\"Age requis: \" + str(12))"
   ]
  },
  {
   "cell_type": "code",
   "execution_count": 3,
   "metadata": {},
   "outputs": [
    {
     "name": "stdout",
     "output_type": "stream",
     "text": [
      "Age requis: 12\n",
      "Age requis: 12\n"
     ]
    }
   ],
   "source": [
    "nombre = 12\n",
    "print('Age requis: %i' % nombre)\n",
    "print('Age requis:' ,nombre)"
   ]
  },
  {
   "cell_type": "code",
   "execution_count": 12,
   "metadata": {},
   "outputs": [
    {
     "name": "stdout",
     "output_type": "stream",
     "text": [
      "Entrez votre âge:23\n",
      "Nb mois vécus:  276\n"
     ]
    }
   ],
   "source": [
    "age = input('Entrez votre âge:')\n",
    "#type(age)\n",
    "print('Nb mois vécus: ', int(age) * 12)"
   ]
  },
  {
   "cell_type": "markdown",
   "metadata": {},
   "source": [
    "#### **Répétition**\n",
    "\n",
    "> Permet d'avoir plusieurs copies mises bout à bout d'une chaîne."
   ]
  },
  {
   "cell_type": "code",
   "execution_count": 13,
   "metadata": {},
   "outputs": [
    {
     "data": {
      "text/plain": [
       "'GATAGATAGATAGATAGATA'"
      ]
     },
     "execution_count": 13,
     "metadata": {},
     "output_type": "execute_result"
    }
   ],
   "source": [
    "\"GATA\"*5"
   ]
  },
  {
   "cell_type": "code",
   "execution_count": 15,
   "metadata": {},
   "outputs": [
    {
     "name": "stdout",
     "output_type": "stream",
     "text": [
      "J'aime beaucoup beaucoup beaucoup beaucoup beaucoup  l'informatique!\n"
     ]
    }
   ],
   "source": [
    "msg1 = \"J'aime \"\n",
    "msg2 = \"beaucoup \" * 5\n",
    "print(msg1 + msg2 + \" l'informatique!\")"
   ]
  },
  {
   "cell_type": "markdown",
   "metadata": {},
   "source": [
    "**Opérateurs d'affectation**"
   ]
  },
  {
   "cell_type": "code",
   "execution_count": 19,
   "metadata": {},
   "outputs": [
    {
     "name": "stdout",
     "output_type": "stream",
     "text": [
      "Bonjour Marco\n",
      "Bonjour MarcoBonjour Marco\n"
     ]
    }
   ],
   "source": [
    "msg = 'Bonjour'\n",
    "msg += ' '\n",
    "msg += 'Marco'\n",
    "print(msg)\n",
    "msg*=2\n",
    "print(msg)"
   ]
  },
  {
   "cell_type": "code",
   "execution_count": 22,
   "metadata": {},
   "outputs": [
    {
     "name": "stdout",
     "output_type": "stream",
     "text": [
      "abcdefdef\n",
      "abcabcdef\n",
      "abcdefabcdef\n"
     ]
    }
   ],
   "source": [
    "print('abc' + 'def' * 2)\n",
    "print('abc' * 2 + 'def')\n",
    "print(('abc' + 'def') *2)"
   ]
  },
  {
   "cell_type": "markdown",
   "metadata": {},
   "source": [
    "# Fonctions prédéfinies pour les chaînes"
   ]
  },
  {
   "cell_type": "markdown",
   "metadata": {},
   "source": [
    "**Fonction <span style=\"color:red;font-family:courier;\">len()</span> -- Longueur d'une chaîne (nombre de caractères)**"
   ]
  },
  {
   "cell_type": "code",
   "execution_count": 23,
   "metadata": {},
   "outputs": [
    {
     "name": "stdout",
     "output_type": "stream",
     "text": [
      "Anticonstitutionnellement: 25 lettres\n",
      "34\n"
     ]
    }
   ],
   "source": [
    "longueur = len(\"Anticonstitutionnellement\") # mot le plus long du dictionnaire français\n",
    "print(\"Anticonstitutionnellement: %i lettres\" % longueur)\n",
    "\n",
    "maryPoppins = 'Supercalifragilisticexpialidocious'\n",
    "print(len(maryPoppins))"
   ]
  },
  {
   "cell_type": "markdown",
   "metadata": {},
   "source": [
    "**Méthode <span style=\"color:red;font-family:courier;\">find(sousChaine)</span> -- Recherche d'une sous-chaîne**\n",
    "\n",
    "> Retourne l'indice de départ de la sous-chaîne (débute à zéro)"
   ]
  },
  {
   "cell_type": "code",
   "execution_count": 1,
   "metadata": {},
   "outputs": [
    {
     "name": "stdout",
     "output_type": "stream",
     "text": [
      "4\n",
      "4\n",
      "2\n",
      "12\n"
     ]
    }
   ],
   "source": [
    "motLong = \"Anticonstitutionnellement\"\n",
    "positionConst = motLong.find('const')\n",
    "print(positionConst)\n",
    "#commence à compter par 0\n",
    "\n",
    "print(\"Anticonstitutionnellement\".find('const'))\n",
    "print(\"Anticonstitutionnellement\".find('ti'))\n",
    "print(\"Anticonstitutionnellement\".rfind('ti'))"
   ]
  },
  {
   "cell_type": "markdown",
   "metadata": {},
   "source": [
    "> Si la sous-chaîne est absente, la fonction retourne la valeur -1."
   ]
  },
  {
   "cell_type": "code",
   "execution_count": 29,
   "metadata": {},
   "outputs": [
    {
     "name": "stdout",
     "output_type": "stream",
     "text": [
      "Trouve 'Marco' à la position: -1\n"
     ]
    }
   ],
   "source": [
    "positionMarco = motLong.find('marco')\n",
    "print('Trouve \\'Marco\\' à la position:', positionMarco)"
   ]
  },
  {
   "cell_type": "code",
   "execution_count": 31,
   "metadata": {},
   "outputs": [
    {
     "name": "stdout",
     "output_type": "stream",
     "text": [
      "4\n",
      "15\n"
     ]
    }
   ],
   "source": [
    "print('Havana, ooh na-na'.find('na')) # Trouve seulement la 1re occurrence\n",
    "print('Havana, ooh na-na'.rfind('na'))"
   ]
  },
  {
   "cell_type": "markdown",
   "metadata": {},
   "source": [
    "**Méthode <span style=\"color:red;font-family:courier;\">lower()</span> -- Convertir la chaîne en lettres minuscules**"
   ]
  },
  {
   "cell_type": "code",
   "execution_count": 35,
   "metadata": {},
   "outputs": [
    {
     "name": "stdout",
     "output_type": "stream",
     "text": [
      "Appellation: cégep de thetford\n",
      "Appellation: cégep de thetford\n",
      "Help on method_descriptor:\n",
      "\n",
      "lower(...)\n",
      "    S.lower() -> str\n",
      "    \n",
      "    Return a copy of the string S converted to lowercase.\n",
      "\n"
     ]
    }
   ],
   "source": [
    "college = 'Cégep de Thetford'\n",
    "print(\"Appellation:\", college.lower())\n",
    "college = 'CÉgep de ThetFord'\n",
    "print(\"Appellation:\", college.lower())\n",
    "\n",
    "help(str.lower)"
   ]
  },
  {
   "cell_type": "markdown",
   "metadata": {},
   "source": [
    "**Méthode <span style=\"color:red;font-family:courier;\">upper()</span> -- Convertir la chaîne en lettres majuscules**"
   ]
  },
  {
   "cell_type": "code",
   "execution_count": 36,
   "metadata": {},
   "outputs": [
    {
     "name": "stdout",
     "output_type": "stream",
     "text": [
      "Appellation: CÉGEP DE THETFORD\n"
     ]
    }
   ],
   "source": [
    "college = 'Cégep de Thetford'\n",
    "print(\"Appellation:\", college.upper())"
   ]
  },
  {
   "cell_type": "markdown",
   "metadata": {},
   "source": [
    "**Découpage de la chaîne (*slicing*)**\n",
    "\n",
    "> [posDepartIncluse:posFinExcluse]"
   ]
  },
  {
   "cell_type": "code",
   "execution_count": 40,
   "metadata": {},
   "outputs": [
    {
     "name": "stdout",
     "output_type": "stream",
     "text": [
      "Extrait [1:4] de ABCDEF : BCD\n",
      "Extrait [2:3] de ABCDEF : C\n",
      "Extrait [2:2] de ABCDEF :  -\n"
     ]
    }
   ],
   "source": [
    "chaine = 'ABCDEF' # 6 lettres\n",
    "extrait = chaine[1:4] #n'inclu pas la lettre à la 4ieme position\n",
    "print('Extrait [1:4] de', chaine, ':', extrait)\n",
    "extrait = chaine[2:3]\n",
    "print('Extrait [2:3] de', chaine, ':', extrait)\n",
    "extrait = chaine[2:2]\n",
    "print('Extrait [2:2] de', chaine, ':', extrait, '-')"
   ]
  },
  {
   "cell_type": "code",
   "execution_count": 41,
   "metadata": {},
   "outputs": [
    {
     "name": "stdout",
     "output_type": "stream",
     "text": [
      "Sous-mot: constitution\n"
     ]
    }
   ],
   "source": [
    "motLong = \"Anticonstitutionnellement\"\n",
    "depart = 4\n",
    "fin = 16 # Position après la dernière lettre\n",
    "print('Sous-mot:', motLong[depart:fin])"
   ]
  },
  {
   "cell_type": "code",
   "execution_count": 43,
   "metadata": {},
   "outputs": [
    {
     "name": "stdout",
     "output_type": "stream",
     "text": [
      "4\n",
      "Diminutif de Marcel: Marc\n"
     ]
    }
   ],
   "source": [
    "prenom = 'Marcel'\n",
    "print(prenom.find('e'))\n",
    "print('Diminutif de Marcel:', prenom[:prenom.find('e')])"
   ]
  },
  {
   "cell_type": "code",
   "execution_count": 46,
   "metadata": {},
   "outputs": [
    {
     "name": "stdout",
     "output_type": "stream",
     "text": [
      "social\n",
      "social\n"
     ]
    }
   ],
   "source": [
    "print('Anti-social'[5:])\n",
    "print('Anti-social'[5:len('Anti-social')]) #ne pas faire trop long"
   ]
  },
  {
   "cell_type": "code",
   "execution_count": 47,
   "metadata": {},
   "outputs": [
    {
     "name": "stdout",
     "output_type": "stream",
     "text": [
      "B\n",
      "B\n",
      "Bon\n",
      "Bon\n",
      "nde\n",
      "jour le monde\n",
      "Bonjour le mo\n"
     ]
    }
   ],
   "source": [
    "mot = \"Bonjour le monde\"\n",
    "\n",
    "print(mot[0])    # premier caractère\n",
    "print(mot[0:1])  # premier caractère (idem à celui au-dessus)\n",
    "print(mot[0:3])  # trois premiers caractères\n",
    "print(mot[:3])   # aussi les trois premiers caractères\n",
    "print(mot[-3:])  # trois derniers caractères\n",
    "print(mot[3:])   # tous les caractères sauf les trois premiers\n",
    "print(mot[:-3])  # tous les caractères sauf les trois derniers"
   ]
  },
  {
   "cell_type": "markdown",
   "metadata": {},
   "source": [
    "**Méthode <span style=\"color:red;font-family:courier;\">count(sousChaine)</span> -- Dénombrer les occurrences d'une sous-chaîne**"
   ]
  },
  {
   "cell_type": "code",
   "execution_count": 48,
   "metadata": {},
   "outputs": [
    {
     "name": "stdout",
     "output_type": "stream",
     "text": [
      "Nombre de \"r\" dans Abraracourcix: 3\n"
     ]
    }
   ],
   "source": [
    "druide = 'Abraracourcix'\n",
    "print('Nombre de \"r\" dans %s: %i' % (druide,druide.count('r')) )"
   ]
  },
  {
   "cell_type": "code",
   "execution_count": 51,
   "metadata": {},
   "outputs": [
    {
     "name": "stdout",
     "output_type": "stream",
     "text": [
      "Nombre de   'l': 5\n",
      "Nombre de 'lll': 1\n",
      "Nombre de 'll': 2\n"
     ]
    }
   ],
   "source": [
    "emphaseHello = 'helllllo'\n",
    "print('Nombre de   \\'l\\':', emphaseHello.count('l'))\n",
    "print('Nombre de \\'lll\\':', emphaseHello.count('lll')) # séquences disjointes\n",
    "print('Nombre de \\'ll\\':', emphaseHello.count('ll')) # séquences disjointes"
   ]
  },
  {
   "cell_type": "markdown",
   "metadata": {},
   "source": [
    "**Méthode <span style=\"color:red;font-family:courier;\">index(sousChaine)</span> -- Position de la sous-chaîne**"
   ]
  },
  {
   "cell_type": "code",
   "execution_count": 52,
   "metadata": {},
   "outputs": [
    {
     "data": {
      "text/plain": [
       "2"
      ]
     },
     "execution_count": 52,
     "metadata": {},
     "output_type": "execute_result"
    }
   ],
   "source": [
    "'Marco'.index('rc')"
   ]
  },
  {
   "cell_type": "code",
   "execution_count": 53,
   "metadata": {},
   "outputs": [
    {
     "ename": "ValueError",
     "evalue": "substring not found",
     "output_type": "error",
     "traceback": [
      "\u001b[0;31m---------------------------------------------------------------------------\u001b[0m",
      "\u001b[0;31mValueError\u001b[0m                                Traceback (most recent call last)",
      "\u001b[0;32m<ipython-input-53-21db440bd4e6>\u001b[0m in \u001b[0;36m<module>\u001b[0;34m()\u001b[0m\n\u001b[0;32m----> 1\u001b[0;31m \u001b[0;34m'Marco'\u001b[0m\u001b[0;34m.\u001b[0m\u001b[0mindex\u001b[0m\u001b[0;34m(\u001b[0m\u001b[0;34m'ro'\u001b[0m\u001b[0;34m)\u001b[0m  \u001b[0;31m# Erreur si chaîne introuvable\u001b[0m\u001b[0;34m\u001b[0m\u001b[0m\n\u001b[0m",
      "\u001b[0;31mValueError\u001b[0m: substring not found"
     ]
    }
   ],
   "source": [
    "'Marco'.index('ro')  # Erreur si chaîne introuvable"
   ]
  },
  {
   "cell_type": "markdown",
   "metadata": {},
   "source": [
    "**Méthode <span style=\"color:red;font-family:courier;\">split(sousChaine)</span> -- Découpage de chaîne**"
   ]
  },
  {
   "cell_type": "code",
   "execution_count": 54,
   "metadata": {},
   "outputs": [
    {
     "data": {
      "text/plain": [
       "['Marco', 'Guay']"
      ]
     },
     "execution_count": 54,
     "metadata": {},
     "output_type": "execute_result"
    }
   ],
   "source": [
    "'Marco Guay'.split(' ') # division sur l'espace"
   ]
  },
  {
   "cell_type": "code",
   "execution_count": 55,
   "metadata": {},
   "outputs": [
    {
     "data": {
      "text/plain": [
       "['Louis-Joseph', 'Montcalm']"
      ]
     },
     "execution_count": 55,
     "metadata": {},
     "output_type": "execute_result"
    }
   ],
   "source": [
    "'Louis-Joseph de Montcalm'.split(' de ')"
   ]
  },
  {
   "cell_type": "code",
   "execution_count": 56,
   "metadata": {},
   "outputs": [
    {
     "data": {
      "text/plain": [
       "['Il', 'était', 'une', 'fois']"
      ]
     },
     "execution_count": 56,
     "metadata": {},
     "output_type": "execute_result"
    }
   ],
   "source": [
    "'Il était une fois'.split(' ')"
   ]
  },
  {
   "cell_type": "code",
   "execution_count": 57,
   "metadata": {},
   "outputs": [
    {
     "data": {
      "text/plain": [
       "['indivisible']"
      ]
     },
     "execution_count": 57,
     "metadata": {},
     "output_type": "execute_result"
    }
   ],
   "source": [
    "'indivisible'.split(' ')"
   ]
  },
  {
   "cell_type": "markdown",
   "metadata": {},
   "source": [
    "**Méthodes <span style=\"color:red;font-family:courier;\">startswith(sousChaine)</span>, <span style=\"color:red;font-family:courier;\">endswith(sousChaine)</span> -- Détermine si la chaîne débute ou se termine par une sous-chaîne.**"
   ]
  },
  {
   "cell_type": "code",
   "execution_count": 60,
   "metadata": {},
   "outputs": [
    {
     "name": "stdout",
     "output_type": "stream",
     "text": [
      "True\n",
      "True\n",
      "False\n",
      "False\n",
      "True\n"
     ]
    }
   ],
   "source": [
    "print(\"Adam et Eve\".startswith('Ada'))\n",
    "print(\"Adam et Eve\".endswith('ve'))\n",
    "print(\"Adam et Eve\".startswith('ada'))\n",
    "print(\"Adam et Eve\".endswith('vE'))\n",
    "\n",
    "print(\"Adam et Eve\".lower().startswith('ada'))"
   ]
  },
  {
   "cell_type": "markdown",
   "metadata": {},
   "source": [
    "**Méthode <span style=\"color:red;font-family:courier;\">replace(recherche,remplace)</span> -- Remplacement de sous-chaîne**"
   ]
  },
  {
   "cell_type": "code",
   "execution_count": 61,
   "metadata": {},
   "outputs": [
    {
     "name": "stdout",
     "output_type": "stream",
     "text": [
      "Bon matin monsieur\n"
     ]
    }
   ],
   "source": [
    "print('Bonjour monsieur'.replace('Bonjour','Bon matin'))"
   ]
  },
  {
   "cell_type": "code",
   "execution_count": 63,
   "metadata": {},
   "outputs": [
    {
     "name": "stdout",
     "output_type": "stream",
     "text": [
      "Bonjour monsieur\n"
     ]
    }
   ],
   "source": [
    "print('Bonjour monsieur'.replace('Salut','Bon matin')) # Chaîne inchangée"
   ]
  },
  {
   "cell_type": "code",
   "execution_count": 65,
   "metadata": {},
   "outputs": [
    {
     "name": "stdout",
     "output_type": "stream",
     "text": [
      "Une variable, est  comme une zone mémoire \n",
      "Help on method_descriptor:\n",
      "\n",
      "replace(...)\n",
      "    S.replace(old, new[, count]) -> str\n",
      "    \n",
      "    Return a copy of S with all occurrences of substring\n",
      "    old replaced by new.  If the optional argument count is\n",
      "    given, only the first count occurrences are replaced.\n",
      "\n"
     ]
    }
   ],
   "source": [
    "# Remplace plusieurs occurrences\n",
    "print('Une variable,genre est genre comme une zone mémoire genre'.replace('genre',''))\n",
    "print('Une variable,genre est genre comme une zone mémoire genre'.replace('genre',)) # va avoir un erreur parce qu'il faut un arg apres ('genre',)) "
   ]
  },
  {
   "cell_type": "markdown",
   "metadata": {},
   "source": [
    "## Autres transformations"
   ]
  },
  {
   "cell_type": "code",
   "execution_count": 66,
   "metadata": {},
   "outputs": [
    {
     "data": {
      "text/plain": [
       "'Marco Guay'"
      ]
     },
     "execution_count": 66,
     "metadata": {},
     "output_type": "execute_result"
    }
   ],
   "source": [
    "'marco guay'.title()"
   ]
  },
  {
   "cell_type": "code",
   "execution_count": 67,
   "metadata": {},
   "outputs": [
    {
     "data": {
      "text/plain": [
       "'Marco Guay'"
      ]
     },
     "execution_count": 67,
     "metadata": {},
     "output_type": "execute_result"
    }
   ],
   "source": [
    "'mArCo gUaY'.title()"
   ]
  },
  {
   "cell_type": "code",
   "execution_count": 68,
   "metadata": {},
   "outputs": [
    {
     "data": {
      "text/plain": [
       "'Informatique'"
      ]
     },
     "execution_count": 68,
     "metadata": {},
     "output_type": "execute_result"
    }
   ],
   "source": [
    "'informatique'.capitalize()"
   ]
  },
  {
   "cell_type": "code",
   "execution_count": 69,
   "metadata": {},
   "outputs": [
    {
     "data": {
      "text/plain": [
       "'abc DEF'"
      ]
     },
     "execution_count": 69,
     "metadata": {},
     "output_type": "execute_result"
    }
   ],
   "source": [
    "'ABC def'.swapcase()"
   ]
  },
  {
   "cell_type": "code",
   "execution_count": 70,
   "metadata": {},
   "outputs": [
    {
     "data": {
      "text/plain": [
       "'- Informatique'"
      ]
     },
     "execution_count": 70,
     "metadata": {},
     "output_type": "execute_result"
    }
   ],
   "source": [
    "'  - Informatique    '.strip()"
   ]
  },
  {
   "cell_type": "code",
   "execution_count": 71,
   "metadata": {},
   "outputs": [
    {
     "data": {
      "text/plain": [
       "'- Informatique    '"
      ]
     },
     "execution_count": 71,
     "metadata": {},
     "output_type": "execute_result"
    }
   ],
   "source": [
    "'  - Informatique    '.lstrip()"
   ]
  },
  {
   "cell_type": "code",
   "execution_count": 2,
   "metadata": {},
   "outputs": [
    {
     "data": {
      "text/plain": [
       "'  - Informatique'"
      ]
     },
     "execution_count": 2,
     "metadata": {},
     "output_type": "execute_result"
    }
   ],
   "source": [
    "'  - Informatique    '.rstrip()"
   ]
  },
  {
   "cell_type": "code",
   "execution_count": 3,
   "metadata": {},
   "outputs": [
    {
     "data": {
      "text/plain": [
       "'==Informatique=='"
      ]
     },
     "execution_count": 3,
     "metadata": {},
     "output_type": "execute_result"
    }
   ],
   "source": [
    "'---==Informatique==---'.strip('-')"
   ]
  },
  {
   "cell_type": "code",
   "execution_count": 74,
   "metadata": {},
   "outputs": [
    {
     "data": {
      "text/plain": [
       "'Informatique'"
      ]
     },
     "execution_count": 74,
     "metadata": {},
     "output_type": "execute_result"
    }
   ],
   "source": [
    "'-=-=-=Informatique=-=-=-'.strip('-=')"
   ]
  },
  {
   "cell_type": "code",
   "execution_count": 75,
   "metadata": {},
   "outputs": [
    {
     "data": {
      "text/plain": [
       "'BBBBInformatiqueCCC'"
      ]
     },
     "execution_count": 75,
     "metadata": {},
     "output_type": "execute_result"
    }
   ],
   "source": [
    "'aaaBBBBInformatiqueCCCddd'.strip('da')"
   ]
  },
  {
   "cell_type": "code",
   "execution_count": 76,
   "metadata": {},
   "outputs": [
    {
     "data": {
      "text/plain": [
       "'Informatique'"
      ]
     },
     "execution_count": 76,
     "metadata": {},
     "output_type": "execute_result"
    }
   ],
   "source": [
    "'aaaBBBBInformatiqueCCCddd'.strip('daBC')"
   ]
  },
  {
   "cell_type": "markdown",
   "metadata": {},
   "source": [
    "## Validations de format"
   ]
  },
  {
   "cell_type": "code",
   "execution_count": 77,
   "metadata": {},
   "outputs": [
    {
     "name": "stdout",
     "output_type": "stream",
     "text": [
      "False\n",
      "False\n",
      "False\n",
      "False\n",
      "False\n",
      "False\n",
      "False\n"
     ]
    }
   ],
   "source": [
    "phrase = \"Bonjour le monde\"\n",
    " \n",
    "print(phrase.isalnum())         # valide si tous les caractères sont alphanumériques\n",
    "print(phrase.isalpha())         # valide si tous les caractères sont alphabétiques\n",
    "print(phrase.isdigit())         # valide si la chaîne contient des digits\n",
    "print(phrase.istitle())         # valide si la chaîne répond au format 'title' (titre)\n",
    "print(phrase.isupper())         # valide si la chaîne est en majuscule\n",
    "print(phrase.islower())         # valide si la chaîne est en minuscule\n",
    "print(phrase.isspace())         # valide si la chaîne est composée d'espace(s)"
   ]
  },
  {
   "cell_type": "code",
   "execution_count": 78,
   "metadata": {},
   "outputs": [
    {
     "name": "stdout",
     "output_type": "stream",
     "text": [
      "True\n",
      "True\n",
      "False\n",
      "True\n",
      "False\n",
      "False\n",
      "False\n"
     ]
    }
   ],
   "source": [
    "phrase = \"Marco\"\n",
    " \n",
    "print(phrase.isalnum())         # valide si tous les caractères sont alphanumériques\n",
    "print(phrase.isalpha())         # valide si tous les caractères sont alphabétiques\n",
    "print(phrase.isdigit())         # valide si la chaîne contient des digits\n",
    "print(phrase.istitle())         # valide si la chaîne répond au format 'title' (titre)\n",
    "print(phrase.isupper())         # valide si la chaîne est en majuscule\n",
    "print(phrase.islower())         # valide si la chaîne est en minuscule\n",
    "print(phrase.isspace())         # valide si la chaîne est composée d'espace(s)"
   ]
  },
  {
   "cell_type": "code",
   "execution_count": null,
   "metadata": {},
   "outputs": [],
   "source": []
  }
 ],
 "metadata": {
  "kernelspec": {
   "display_name": "Python 3",
   "language": "python",
   "name": "python3"
  },
  "language_info": {
   "codemirror_mode": {
    "name": "ipython",
    "version": 3
   },
   "file_extension": ".py",
   "mimetype": "text/x-python",
   "name": "python",
   "nbconvert_exporter": "python",
   "pygments_lexer": "ipython3",
   "version": "3.5.2"
  }
 },
 "nbformat": 4,
 "nbformat_minor": 2
}
