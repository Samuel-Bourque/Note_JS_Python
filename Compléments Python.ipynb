{
 "cells": [
  {
   "cell_type": "markdown",
   "metadata": {},
   "source": [
    "<img style='margin-right:0' src=\"http://dinfo.ca/logoDptInfo.jpg\" width=300>\n",
    "\n",
    "# Compléments Python\n",
    "---"
   ]
  },
  {
   "cell_type": "markdown",
   "metadata": {},
   "source": [
    "# Structures de contrôle\n",
    "\n",
    "## Répétitions\n",
    "\n",
    "#### Énoncé `for`\n",
    "\n",
    "```python\n",
    "for variable in sequence:\n",
    "    énoncé(s)\n",
    "```\n",
    "\n",
    "Variante: l'énoncé `else` s'exécute à la fin de la boucle (sauf si on a un `break` (voir plus loin)\n",
    "```python\n",
    "for variable in sequence:\n",
    "    énoncé(s)\n",
    "else:\n",
    "    énoncé(s)\n",
    "```"
   ]
  },
  {
   "cell_type": "code",
   "execution_count": null,
   "metadata": {},
   "outputs": [],
   "source": [
    "for n in range(5):\n",
    "    print(n)\n",
    "else:\n",
    "    print('fin\\n')\n",
    "\n",
    "for item in []:\n",
    "    print(\"item\", item)\n",
    "else:\n",
    "    print(\"fin des items\")"
   ]
  },
  {
   "cell_type": "markdown",
   "metadata": {},
   "source": [
    "#### Énoncé `while`\n",
    "\n",
    "Répète les instructions de la boucle tant que la condition est vraie.\n",
    "\n",
    "```python\n",
    "while expression:\n",
    "    énoncé(s)\n",
    "```\n",
    "\n",
    "Variante:\n",
    "```python\n",
    "while expression:\n",
    "    énoncé(s)\n",
    "else:\n",
    "    énoncé(s)\n",
    "```\n",
    "\n",
    "Cas particulier:\n",
    "\n",
    "> Boucle infinie: condition d'arrêt jamais rencontrée"
   ]
  },
  {
   "cell_type": "code",
   "execution_count": 2,
   "metadata": {},
   "outputs": [
    {
     "name": "stdout",
     "output_type": "stream",
     "text": [
      "0\n",
      "1\n",
      "2\n",
      "3\n",
      "4\n",
      "fin de la boucle\n"
     ]
    }
   ],
   "source": [
    "i=0\n",
    "while i<5:\n",
    "    print(i)\n",
    "    i+=1\n",
    "else:\n",
    "    print('fin de la boucle')"
   ]
  },
  {
   "cell_type": "markdown",
   "metadata": {},
   "source": [
    "#### Énoncé `break`\n",
    "\n",
    "Permet de terminer la boucle; l'exécution se poursuit après le `while` ou le `for`.\n",
    "\n",
    "On utilise cet énoncé lorsqu'une condition particulière doit mettre fin à la répétition.\n",
    "\n",
    "Si on a des répétitions imbriquées, seule la boucle intérieur est terminée."
   ]
  },
  {
   "cell_type": "code",
   "execution_count": 21,
   "metadata": {},
   "outputs": [
    {
     "name": "stdout",
     "output_type": "stream",
     "text": [
      "1\n",
      "2\n",
      "3\n",
      "4\n",
      "5\n",
      "6\n",
      "7\n",
      "8\n",
      "9\n",
      "10\n",
      "11\n",
      "12\n"
     ]
    }
   ],
   "source": [
    "i=1\n",
    "while i < 100 and i % 13 > 0:\n",
    "    print(i)\n",
    "    i+=1"
   ]
  },
  {
   "cell_type": "code",
   "execution_count": 26,
   "metadata": {},
   "outputs": [
    {
     "name": "stdout",
     "output_type": "stream",
     "text": [
      "Température du premier gel: -3\n"
     ]
    }
   ],
   "source": [
    "indice = 0\n",
    "tempPremierGel = None\n",
    "for temperature in [5, 10, 2, -3, 9, 4]:\n",
    "    if temperature < 0:\n",
    "        tempPremierGel = temperature\n",
    "        break\n",
    "else:\n",
    "    print(\"Nous n'avons trouvé aucune température sous zéro\")\n",
    "\n",
    "if tempPremierGel is not None:\n",
    "    print('Température du premier gel:', tempPremierGel)\n",
    "    "
   ]
  },
  {
   "cell_type": "code",
   "execution_count": 30,
   "metadata": {},
   "outputs": [
    {
     "name": "stdout",
     "output_type": "stream",
     "text": [
      "Entrez une valeur (-1 pour terminer):10\n",
      "Entrez une valeur (-1 pour terminer):15\n",
      "Entrez une valeur (-1 pour terminer):20\n",
      "Entrez une valeur (-1 pour terminer):-1\n",
      "Total 45\n"
     ]
    }
   ],
   "source": [
    "total = 0\n",
    "while True:\n",
    "    val = int(input('Entrez une valeur (-1 pour terminer):'))\n",
    "    if val == -1:\n",
    "        break\n",
    "    total += val\n",
    "print('Total', total)\n",
    "    "
   ]
  },
  {
   "cell_type": "markdown",
   "metadata": {},
   "source": [
    "### Forme plus fréquence par rapport au code ci-dessus\n"
   ]
  },
  {
   "cell_type": "code",
   "execution_count": 31,
   "metadata": {},
   "outputs": [
    {
     "name": "stdout",
     "output_type": "stream",
     "text": [
      "Entrez une valeur (-1 pour terminer):10\n",
      "Entrez une valeur (-1 pour terminer):15\n",
      "Entrez une valeur (-1 pour terminer):20\n",
      "Entrez une valeur (-1 pour terminer):-1\n",
      "Total 45\n"
     ]
    }
   ],
   "source": [
    "total = 0\n",
    "val = int(input('Entrez une valeur (-1 pour terminer):'))\n",
    "while val != -1:\n",
    "    total += val\n",
    "    val = int(input('Entrez une valeur (-1 pour terminer):'))\n",
    "print('Total', total)"
   ]
  },
  {
   "cell_type": "markdown",
   "metadata": {},
   "source": [
    "#### Énoncé `continue`\n",
    "\n",
    "Permet d'évaluer la prochaine condition; on saute par-dessus le reste des instructions de la boucle."
   ]
  },
  {
   "cell_type": "code",
   "execution_count": 32,
   "metadata": {},
   "outputs": [
    {
     "name": "stdout",
     "output_type": "stream",
     "text": [
      "Moyenne des échecs: 2.5\n",
      "Nombre d'échecs 4\n"
     ]
    }
   ],
   "source": [
    "nbEchecs = 0\n",
    "totEchecs = 0\n",
    "notes = [5, 9, 10, 4, 1, 0, 8]\n",
    "for uneNote in notes:\n",
    "    if uneNote >= 6:\n",
    "        continue\n",
    "    totEchecs+=uneNote\n",
    "    nbEchecs+=1\n",
    "if nbEchecs > 0:\n",
    "    print('Moyenne des échecs:', totEchecs / nbEchecs)\n",
    "print('Nombre d\\'échecs', nbEchecs)"
   ]
  },
  {
   "cell_type": "markdown",
   "metadata": {},
   "source": [
    "# Conditions\n",
    "\n",
    "#### Vrai et faux\n",
    "\n",
    "Le langage Python possède un type booléen (bool) qui correspond à vrai (True) ou faux (False).  Remarquez les majuscules."
   ]
  },
  {
   "cell_type": "code",
   "execution_count": 37,
   "metadata": {},
   "outputs": [
    {
     "data": {
      "text/plain": [
       "False"
      ]
     },
     "execution_count": 37,
     "metadata": {},
     "output_type": "execute_result"
    }
   ],
   "source": [
    "bool(1 == 2)"
   ]
  },
  {
   "cell_type": "code",
   "execution_count": 34,
   "metadata": {},
   "outputs": [
    {
     "data": {
      "text/plain": [
       "bool"
      ]
     },
     "execution_count": 34,
     "metadata": {},
     "output_type": "execute_result"
    }
   ],
   "source": [
    "type(True)"
   ]
  },
  {
   "cell_type": "code",
   "execution_count": 38,
   "metadata": {},
   "outputs": [
    {
     "data": {
      "text/plain": [
       "True"
      ]
     },
     "execution_count": 38,
     "metadata": {},
     "output_type": "execute_result"
    }
   ],
   "source": [
    "bool(\"Marco\")"
   ]
  },
  {
   "cell_type": "code",
   "execution_count": 41,
   "metadata": {},
   "outputs": [
    {
     "data": {
      "text/plain": [
       "False"
      ]
     },
     "execution_count": 41,
     "metadata": {},
     "output_type": "execute_result"
    }
   ],
   "source": [
    "bool(\"\")"
   ]
  },
  {
   "cell_type": "markdown",
   "metadata": {},
   "source": []
  },
  {
   "cell_type": "markdown",
   "metadata": {},
   "source": [
    "#### Falsy et Truthy\n",
    "Bien que ce ne soit pas désirable (car réduit la lisibilité du code), il existe la possibilité d'évaluer des conditions **considérées vraies** (`truthy`) ou **considérées fausses** (`falsy`).  On appelle cela un `anti-pattern` (chose à ne pas faire, mauvaises pratiques).\n",
    "\n",
    "Ce que Python considère comme `falsy`:\n",
    "\n",
    "* None\n",
    "* 0\n",
    "* 0.0\n",
    "* \"\" (chaîne vide)\n",
    "* collection vide: {}, [], ()"
   ]
  },
  {
   "cell_type": "code",
   "execution_count": 42,
   "metadata": {},
   "outputs": [
    {
     "name": "stdout",
     "output_type": "stream",
     "text": [
      "Vous devez spécifier un nom\n"
     ]
    }
   ],
   "source": [
    "nom = \"\"\n",
    "if nom:\n",
    "    print(\"Bonjour\",nom)\n",
    "else:\n",
    "    print(\"Vous devez spécifier un nom\")"
   ]
  },
  {
   "cell_type": "code",
   "execution_count": 45,
   "metadata": {},
   "outputs": [
    {
     "name": "stdout",
     "output_type": "stream",
     "text": [
      "Bonjour Marco\n"
     ]
    }
   ],
   "source": [
    "nom = \"Marco\"\n",
    "if nom:\n",
    "    print(\"Bonjour\",nom)\n",
    "else:\n",
    "    print(\"Vous devez spécifier un nom\")"
   ]
  },
  {
   "cell_type": "code",
   "execution_count": 49,
   "metadata": {},
   "outputs": [
    {
     "name": "stdout",
     "output_type": "stream",
     "text": [
      "Bonjour Marco\n"
     ]
    }
   ],
   "source": [
    "#VERISON MODIFIÉE\n",
    "nom = \"Marco\"\n",
    "if len(nom):\n",
    "    print(\"Bonjour\",nom)\n",
    "else:\n",
    "    print(\"Vous devez spécifier un nom\")"
   ]
  },
  {
   "cell_type": "markdown",
   "metadata": {},
   "source": [
    "#### Tables de vérité\n",
    "\n",
    "| ET   | False | True |\n",
    "|------|-------|------|\n",
    "| **False** | F | F|\n",
    "| **True** | F | T|\n",
    "\n",
    "| OU   | False | True |\n",
    "|------|-------|------|\n",
    "| **False** | F | T|\n",
    "| **True** | T | T|\n",
    "\n",
    "Opérateurs logiques: `and`, `or` et `not`\n",
    "\n",
    "NOTE: \n",
    "> En JavaScript, `&&` (et logique), `||` (ou logique) et négation (`!`)"
   ]
  },
  {
   "cell_type": "markdown",
   "metadata": {},
   "source": [
    "#### Évaluation des conditions composées\n",
    "\n",
    "Pour un **ou logique**, si l'expression de gauche donne `vrai`, on n'évalue pas l'expression de droite.\n",
    "\n",
    "Pour un **et logique**, si l'expression de gauche est `fausse`, on n'évalue pas l'expression de droite."
   ]
  },
  {
   "cell_type": "markdown",
   "metadata": {},
   "source": [
    "### Équivalent de l'opérateur ternaire en Python\n",
    "\n",
    "En JavaScript, on possède un opérateur ternaire:\n",
    "\n",
    "```javascript\n",
    "codeSexe = (titre == 'Monsieur') ? 'H' : 'F';\n",
    "```\n",
    "\n",
    "Il n'y a pas d'opérateur ternaire en Python, mais on peut faire l'équivalent avec cette syntaxe.\n",
    "\n",
    "```python\n",
    "codeSexe = 'H' if (titre == 'Monsieur') else 'F'\n",
    "```"
   ]
  }
 ],
 "metadata": {
  "kernelspec": {
   "display_name": "Python 3",
   "language": "python",
   "name": "python3"
  },
  "language_info": {
   "codemirror_mode": {
    "name": "ipython",
    "version": 3
   },
   "file_extension": ".py",
   "mimetype": "text/x-python",
   "name": "python",
   "nbconvert_exporter": "python",
   "pygments_lexer": "ipython3",
   "version": "3.5.2"
  }
 },
 "nbformat": 4,
 "nbformat_minor": 2
}
