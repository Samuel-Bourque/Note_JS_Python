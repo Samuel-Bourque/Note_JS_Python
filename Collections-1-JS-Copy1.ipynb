{
 "cells": [
  {
   "cell_type": "markdown",
   "metadata": {},
   "source": [
    "<img style='margin-right:0' src=\"http://dinfo.ca/logoDptInfo.jpg\" width=300>\n",
    "\n",
    "# Introduction aux collections (JavaScript)\n",
    "---"
   ]
  },
  {
   "cell_type": "markdown",
   "metadata": {},
   "source": [
    "En JavaScript, on utilise **Array** pour décrire une **collection ordonnée**.  \n",
    "\n",
    "Il n'y a pas de collection immuable (non modifiable) comme les tuples en Python.  Néanmoins, il serait possible d'interdire la modification d'un array en \"figeant\" la collection (`Object.freeze(liste)`)."
   ]
  },
  {
   "cell_type": "code",
   "execution_count": 1,
   "metadata": {},
   "outputs": [
    {
     "name": "stdout",
     "output_type": "stream",
     "text": [
      "Adam\n",
      "Alpha\n",
      "[ 'Alpha', 'Beta', 'Omega', 'Epsilon' ]\n",
      "[ 'Alexis', 'Beta', 'Omega', 'Epsilon' ]\n",
      "::: Adam,Bernard,Charles\n"
     ]
    }
   ],
   "source": [
    "var equivTuple = Object.freeze(['Adam', 'Bernard','Charles']);\n",
    "var liste = ['Alpha', 'Beta', 'Omega'];\n",
    "console.log(equivTuple[0]);\n",
    "console.log(liste[0]);\n",
    "                           \n",
    "liste.push('Epsilon');\n",
    "console.log(liste);\n",
    "liste[0] = 'Alexis';\n",
    "console.log(liste);\n",
    "\n",
    "// Opérations invalides\n",
    "equivTuple[0] = 'Gamma';  \n",
    "//equivTuple.push('Epsilon'); va marquer un message d'erreur parce que .freeze dans la collection\n",
    "console.log(\"::: \" + equivTuple);"
   ]
  },
  {
   "cell_type": "markdown",
   "metadata": {},
   "source": [
    "### Création d'une collection ordonnée\n",
    "\n",
    "#### Créer une liste vide\n",
    "\n",
    "```javascript\n",
    "maListe = [];           // Façon #1\n",
    "maListe = new Array();  // Façon #2\n",
    "maListe = Array();      // Façon #3\n",
    "```\n",
    "\n",
    "#### Créer une liste de valeurs\n",
    "\n",
    "```javascript\n",
    "nombres = [1,2,4,8,16,32,64,128];\n",
    "cartes = new Array('2C', 'AK', '9P', 'RP', '5C');\n",
    "``` "
   ]
  },
  {
   "cell_type": "code",
   "execution_count": 6,
   "metadata": {},
   "outputs": [
    {
     "name": "stdout",
     "output_type": "stream",
     "text": [
      "[ 1, 2, 4, 8, 16, 32, 64, 128 ]\n",
      "[ '2C', 'AK', '9P', 'RP', '5C' ]\n"
     ]
    }
   ],
   "source": [
    "var maListe = [];           // Façon #1\n",
    "maListe = new Array();  // Façon #2\n",
    "maListe = Array();      // Façon #3\n",
    "var nombres = [1,2,4,8,16,32,64,128];\n",
    "var cartes = new Array('2C', 'AK', '9P', 'RP', '5C');\n",
    "console.log(nombres);\n",
    "console.log(cartes);"
   ]
  },
  {
   "cell_type": "code",
   "execution_count": 11,
   "metadata": {},
   "outputs": [
    {
     "name": "stdout",
     "output_type": "stream",
     "text": [
      "[ '420' ]\n"
     ]
    }
   ],
   "source": [
    "var numerosVol = new Array ('420');\n",
    "//numerosVol.push(420);\n",
    "console.log(numerosVol);"
   ]
  },
  {
   "cell_type": "markdown",
   "metadata": {},
   "source": [
    "---\n",
    "## Expérimentation\n",
    "\n",
    "Créez une collection ordonnée à placer dans la variable `joursMois` qui comprend 12 nombres, soit le nombre de jour pour chacun des mois.  Le premier mois, janvier, possède 31 jours.  Considérez que février n'est pas bissextile."
   ]
  },
  {
   "cell_type": "code",
   "execution_count": 13,
   "metadata": {},
   "outputs": [
    {
     "name": "stdout",
     "output_type": "stream",
     "text": [
      "[ 31, 28, 31, 30, 31, 30, 31, 31, 30, 31, 30, 31 ]\n"
     ]
    }
   ],
   "source": [
    "// Réponse\n",
    "var joursMois = [31,28,31,30,31,30,31,31,30,31,30,31];\n",
    "console.log(joursMois);"
   ]
  },
  {
   "cell_type": "markdown",
   "metadata": {},
   "source": [
    "### Récupérer un élément à une position\n",
    "\n",
    "On peut utiliser les crochets et préciser un indice (les indices débutent à zéro).\n",
    "\n",
    "```javascrit\n",
    "prenoms = ['Adam', 'Bernard','Charles'];\n",
    "liste = ['Alpha', 'Beta', 'Omega'];\n",
    "console.log(prenoms[0]);  // Premier élément\n",
    "console.log(liste[1]);    // Second élément\n",
    "```"
   ]
  },
  {
   "cell_type": "markdown",
   "metadata": {},
   "source": [
    "---\n",
    "## Expérimentation\n",
    "\n",
    "Affichez le nombre de jours en décembre (basé sur votre variable `joursMois`."
   ]
  },
  {
   "cell_type": "code",
   "execution_count": 35,
   "metadata": {},
   "outputs": [
    {
     "name": "stdout",
     "output_type": "stream",
     "text": [
      "31\n",
      "31\n",
      "undefined\n",
      "undefined\n",
      "undefined\n",
      "31\n",
      "31\n"
     ]
    }
   ],
   "source": [
    "// Insérez votre réponse\n",
    "indiceDecembre = 11;\n",
    "console.log(joursMois[11]);\n",
    "\n",
    "console.log(joursMois [11]);\n",
    "console.log(joursMois [-1]);\n",
    "console.log(joursMois [200]);\n",
    "console.log(joursMois[joursMois.length]);\n",
    "console.log(joursMois[joursMois.length-1]);\n",
    "// Pas d'indiçage négatif en JavaScript va afficher undefined\n",
    "console.log(joursMois.slice(-1)[0]);\n"
   ]
  },
  {
   "cell_type": "markdown",
   "metadata": {},
   "source": [
    "#### Slicing\n",
    "\n",
    "Comme avec le découpage de chaîne, on peut également faire cette opération avec les éléments d'une collection."
   ]
  },
  {
   "cell_type": "code",
   "execution_count": 30,
   "metadata": {},
   "outputs": [
    {
     "name": "stdout",
     "output_type": "stream",
     "text": [
      "Deux premières cartes: [ '2C', 'AK' ]\n",
      "Deux dernières cartes: [ 'RP', '5C' ]\n",
      "2e, 3e et 4e cartes: [ 'AK', '9P', 'RP' ]\n",
      "2e, 3e et 4e cartes: [ 'AK', '9P', 'RP' ]\n",
      "2e, 3e et 4e cartes: [ 'AK', '9P', 'RP' ]\n"
     ]
    }
   ],
   "source": [
    "\n",
    "var cartes = ['2C', 'AK', '9P', 'RP', '5C']\n",
    "console.log(\"Deux premières cartes:\",cartes.slice(0,2));\n",
    "console.log(\"Deux dernières cartes:\",cartes.slice(-2));\n",
    "console.log(\"2e, 3e et 4e cartes:\", cartes.slice(1,-1));\n",
    "console.log(\"2e, 3e et 4e cartes:\", cartes.slice(1,4));\n",
    "console.log(\"2e, 3e et 4e cartes:\", cartes.slice(-4,4));\n",
    "/// https://developer.mozilla.org/fr/docs/Web/JavaScript/Reference/Objets_globaux/Array/slice"
   ]
  },
  {
   "cell_type": "markdown",
   "metadata": {},
   "source": [
    "## Itérer sur les éléments d'une collection"
   ]
  },
  {
   "cell_type": "code",
   "execution_count": 51,
   "metadata": {},
   "outputs": [
    {
     "name": "stdout",
     "output_type": "stream",
     "text": [
      "indice: 1\n",
      "indice: 2\n",
      "indice: 3\n",
      "indice: 4\n",
      "indice: 5\n",
      "indice: 6\n",
      "indice: 7\n",
      "indice: 8\n",
      "indice: 9\n",
      "indice: 10\n"
     ]
    }
   ],
   "source": [
    "// for(init;condBoucle;post-operation) {...}\n",
    "for(var i=1; i <=10; i++) {\n",
    "    console.log('indice: ' + i);\n",
    "}"
   ]
  },
  {
   "cell_type": "code",
   "execution_count": 3,
   "metadata": {},
   "outputs": [
    {
     "name": "stdout",
     "output_type": "stream",
     "text": [
      "indice: 10\n",
      "indice: 9\n",
      "indice: 8\n",
      "indice: 7\n",
      "indice: 6\n",
      "indice: 5\n",
      "indice: 4\n",
      "indice: 3\n",
      "indice: 2\n",
      "indice: 1\n",
      "indice: 0\n"
     ]
    }
   ],
   "source": [
    "for(var i=10; i>-1; i--) {\n",
    "    console.log('indice: ' + i);\n",
    "}"
   ]
  },
  {
   "cell_type": "code",
   "execution_count": 57,
   "metadata": {},
   "outputs": [
    {
     "name": "stdout",
     "output_type": "stream",
     "text": [
      "Eric\n",
      "Denis\n",
      "Charles\n",
      "Bernard\n",
      "Adam\n"
     ]
    }
   ],
   "source": [
    "prenoms = ['Adam', 'Bernard', 'Charles', 'Denis', 'Eric'];\n",
    "for(var i=prenoms.length-1; i>=0; i--) {\n",
    "    console.log(prenoms[i]);\n",
    "}"
   ]
  },
  {
   "cell_type": "code",
   "execution_count": 47,
   "metadata": {},
   "outputs": [
    {
     "name": "stdout",
     "output_type": "stream",
     "text": [
      "Eric\n",
      "Denis\n",
      "Charles\n",
      "Bernard\n",
      "Adam\n"
     ]
    }
   ],
   "source": [
    "prenoms = ['Adam', 'Bernard', 'Charles', 'Denis', 'Eric'];\n",
    "for(var i=0; i<prenoms.length; i++) {\n",
    "    console.log(prenoms[4-i]);\n",
    "}"
   ]
  },
  {
   "cell_type": "code",
   "execution_count": 61,
   "metadata": {},
   "outputs": [
    {
     "name": "stdout",
     "output_type": "stream",
     "text": [
      "Le prénom Adam possède 4 lettres\n",
      "Le prénom Bernard possède 7 lettres\n",
      "Le prénom Charles possède 7 lettres\n",
      "Le prénom Denis possède 5 lettres\n",
      "Le prénom Eric possède 4 lettres\n"
     ]
    }
   ],
   "source": [
    "for (var i=0;i<prenoms.length;i++) {\n",
    "    console.log(`Le prénom ${prenoms[i]} possède ${prenoms[i].length} lettres`);\n",
    "}"
   ]
  },
  {
   "cell_type": "markdown",
   "metadata": {},
   "source": [
    "## Expérimentation\n",
    "\n",
    "Combien y a-t-il de mois possédant 31 jours dans l'année?\n",
    "* Initialiser le compteur à zéro\n",
    "* Pour chaque nbJours de la collection joursMois\n",
    "    * Si nbJours est 31\n",
    "        * incrémenter le compteur\n",
    "* Afficher le compteur"
   ]
  },
  {
   "cell_type": "code",
   "execution_count": 73,
   "metadata": {},
   "outputs": [
    {
     "name": "stdout",
     "output_type": "stream",
     "text": [
      "nb mois de 31 jours: 7\n"
     ]
    }
   ],
   "source": [
    "// Insérer votre solution\n",
    "var joursMois = [31,28,31,30,31,30,31,31,30,31,30,31];\n",
    "var compteur = 0;\n",
    "for(i=0; i<joursMois.length; i++) {\n",
    "    var nbJours = joursMois[i];\n",
    "    if(nbJours == 31)\n",
    "        compteur++;\n",
    "}\n",
    "console.log('nb mois de 31 jours: ' + compteur);"
   ]
  },
  {
   "cell_type": "markdown",
   "metadata": {},
   "source": [
    "### Ajouter des éléments à la fin d'une liste"
   ]
  },
  {
   "cell_type": "code",
   "execution_count": 7,
   "metadata": {},
   "outputs": [
    {
     "name": "stdout",
     "output_type": "stream",
     "text": [
      "[ 10, 20, 24 ]\n"
     ]
    }
   ],
   "source": [
    "var valeurs = [];\n",
    "valeurs.push(10);\n",
    "valeurs.push(20, 24);\n",
    "//valeurs.push(24);\n",
    "console.log(valeurs);"
   ]
  },
  {
   "cell_type": "code",
   "execution_count": 8,
   "metadata": {},
   "outputs": [
    {
     "name": "stdout",
     "output_type": "stream",
     "text": [
      "Total:  54\n"
     ]
    }
   ],
   "source": [
    "var somme = 0;\n",
    "for (var i=0; i<valeurs.length; i++) {\n",
    "    somme+= valeurs[i];\n",
    "}\n",
    "console.log(\"Total: \", + somme);"
   ]
  },
  {
   "cell_type": "markdown",
   "metadata": {},
   "source": [
    "## Expérimentation\n",
    "\n",
    "Pour la collection de valeurs, afficher chaque nombre qui est un multiple de 3"
   ]
  },
  {
   "cell_type": "code",
   "execution_count": 19,
   "metadata": {},
   "outputs": [
    {
     "name": "stdout",
     "output_type": "stream",
     "text": [
      "6\n",
      "9\n",
      "12\n",
      "21\n",
      "24\n",
      "27\n"
     ]
    }
   ],
   "source": [
    "var valeurs = [6,9,10,12,19,21,24,26,27];\n",
    "for (var i=0; i<=valeurs.length; i++) {\n",
    "    if(valeurs[i] % 3 === 0)\n",
    "console.log(valeurs[i]);\n",
    "}"
   ]
  },
  {
   "cell_type": "code",
   "execution_count": 27,
   "metadata": {},
   "outputs": [
    {
     "name": "stdout",
     "output_type": "stream",
     "text": [
      "Multiples: [ 6, 9, 12, 21, 24, 27 ]\n",
      "Nb multiples: 6\n"
     ]
    }
   ],
   "source": [
    "var valeurs = [6,9,10,12,19,21,24,26,27];\n",
    "var multiples = [];\n",
    "for (var i=0;i<=valeurs.length;i++) {\n",
    "    if(valeurs[i] % 3 === 0)\n",
    "        multiples.push(valeurs[i]);\n",
    "}\n",
    "console.log(\"Multiples:\", multiples);\n",
    "console.log(\"Nb multiples:\", multiples.length);"
   ]
  },
  {
   "cell_type": "code",
   "execution_count": 29,
   "metadata": {},
   "outputs": [
    {
     "name": "stdout",
     "output_type": "stream",
     "text": [
      "3\n",
      "6\n",
      "9\n",
      "12\n",
      "15\n",
      "18\n",
      "21\n",
      "24\n",
      "27\n",
      "30\n",
      "33\n",
      "36\n",
      "39\n",
      "42\n",
      "45\n",
      "48\n",
      "51\n",
      "54\n",
      "57\n",
      "60\n",
      "63\n",
      "66\n",
      "69\n",
      "72\n",
      "75\n",
      "78\n",
      "81\n",
      "84\n",
      "87\n",
      "90\n",
      "93\n",
      "96\n",
      "99\n"
     ]
    }
   ],
   "source": [
    "for (var i=1;i<=100;i++) {\n",
    "    if(i % 3 === 0)\n",
    "console.log(i);\n",
    "}"
   ]
  },
  {
   "cell_type": "markdown",
   "metadata": {},
   "source": [
    "## Expérimentation\n",
    "\n",
    "Pour les nombres de 1 à 100, afficher le nombre de multiples de 3.\n",
    "\n",
    "Deux techniques peuvent être appliquées:\n",
    "* Créer une collection `extraction` qui contiendra les nombres multiples de 3\n",
    "* Utiliser un compteur qui sera incrémenté si le nombre visité est un multiple de 3\n",
    "\n",
    "> On pourra adapter notre solution par après pour laisser tomber le compteur..."
   ]
  },
  {
   "cell_type": "code",
   "execution_count": 43,
   "metadata": {},
   "outputs": [
    {
     "name": "stdout",
     "output_type": "stream",
     "text": [
      "Nb multiple de 3: 33\n"
     ]
    }
   ],
   "source": [
    "// EXTRACTION\n",
    "var extraction = [];\n",
    "for (var i=1;i<=100;i++) {\n",
    "    if(i % 3 === 0)\n",
    "        extraction.push(i);\n",
    "}\n",
    "console.log(\"Nb multiple de 3:\", extraction.length);"
   ]
  },
  {
   "cell_type": "code",
   "execution_count": 47,
   "metadata": {},
   "outputs": [
    {
     "name": "stdout",
     "output_type": "stream",
     "text": [
      "Nb multiple de 3: 33\n"
     ]
    }
   ],
   "source": [
    "// COMPTEUR\n",
    "var compteur = 0;\n",
    "for (var i=1;i<=100;i++) {\n",
    "    if(i % 3 === 0)\n",
    "        compteur +=1;\n",
    "}\n",
    "console.log(\"Nb multiple de 3:\", compteur);"
   ]
  },
  {
   "cell_type": "code",
   "execution_count": 52,
   "metadata": {},
   "outputs": [],
   "source": [
    "function denombrerMultiples(valDepart, valFin, multiple) {\n",
    "    var compteur = 0;\n",
    "for(var i=valDepart;i<=valFin;i++ )\n",
    "    if(i % multiple === 0)\n",
    "        compteur++; \n",
    "    return compteur;\n",
    "}"
   ]
  },
  {
   "cell_type": "code",
   "execution_count": 53,
   "metadata": {},
   "outputs": [
    {
     "name": "stdout",
     "output_type": "stream",
     "text": [
      "Nb multiple 2 (1 à 100): 50\n",
      "Nb multiple 3 (1 à 100): 33\n",
      "Nb multiple 7 (1 à 100): 14\n"
     ]
    }
   ],
   "source": [
    "console.log('Nb multiple 2 (1 à 100):', denombrerMultiples(1,100,2));\n",
    "console.log('Nb multiple 3 (1 à 100):', denombrerMultiples(1,100,3));\n",
    "console.log('Nb multiple 7 (1 à 100):', denombrerMultiples(1,100,7));"
   ]
  },
  {
   "cell_type": "code",
   "execution_count": null,
   "metadata": {},
   "outputs": [],
   "source": [
    "// Nombres aléatoires\n"
   ]
  },
  {
   "cell_type": "code",
   "execution_count": 63,
   "metadata": {},
   "outputs": [
    {
     "name": "stdout",
     "output_type": "stream",
     "text": [
      "5\n"
     ]
    }
   ],
   "source": [
    "var valeurs = [79, 68, 74, 18, 5, 72, 77, 57, 84, 11];\n",
    "// Quellest est la valeur la plus petite?\n",
    "var minimum = valeurs[0];\n",
    "for(var i=0;i<valeurs.length;i++) {\n",
    "    if(valeurs[i] < minimum)\n",
    "        minimum = valeurs[i];\n",
    "}\n",
    "console.log(minimum);"
   ]
  },
  {
   "cell_type": "markdown",
   "metadata": {},
   "source": [
    "#### Alternative\n",
    "\n",
    "La méthode ci-dessus était une solution algorithmique.  On peut utiliser Math.max() et Math.min() mais on doit énumérer les valeurs (ne peut être une collection); c'est ici qu'on utilise l'opérateur de décomposition (spread syntax).\n",
    "https://developer.mozilla.org/fr/docs/Web/JavaScript/Reference/Op%C3%A9rateurs/Syntaxe_d%C3%A9composition"
   ]
  },
  {
   "cell_type": "code",
   "execution_count": 65,
   "metadata": {},
   "outputs": [
    {
     "data": {
      "text/plain": [
       "5"
      ]
     },
     "execution_count": 65,
     "metadata": {},
     "output_type": "execute_result"
    }
   ],
   "source": [
    "var valeurs = [79, 68, 74, 18, 5, 72, 77, 57, 84, 11];\n",
    "// Quellest est la valeur la plus petite?\n",
    "Math.min(...valeurs);"
   ]
  },
  {
   "cell_type": "markdown",
   "metadata": {},
   "source": [
    "## Expérimentation\n",
    "\n",
    "Combien y a-t-il de valeurs inférieures à 50? Puis supérieures ou égales à 50?"
   ]
  },
  {
   "cell_type": "code",
   "execution_count": 3,
   "metadata": {},
   "outputs": [
    {
     "name": "stdout",
     "output_type": "stream",
     "text": [
      "Nb valeurs < 50 : 3\n",
      "Nb valeurs >= 50: 7\n"
     ]
    }
   ],
   "source": [
    "# PYTHON\n",
    "valeurs = [79, 68, 74, 18, 5, 72, 77, 57, 84, 11]\n",
    "nbValeursInferieures = 0\n",
    "for uneValeur in valeurs:\n",
    "    if uneValeur < 50:\n",
    "        nbValeursInferieures += 1\n",
    "print(\"Nb valeurs < 50 :\", nbValeursInferieures)\n",
    "print(\"Nb valeurs >= 50:\", len(valeurs) - nbValeursInferieures)"
   ]
  },
  {
   "cell_type": "code",
   "execution_count": 68,
   "metadata": {},
   "outputs": [
    {
     "name": "stdout",
     "output_type": "stream",
     "text": [
      "Nb valeurs < 50 : 3\n",
      "Nb valeurs >= 50: 7\n"
     ]
    }
   ],
   "source": [
    "// JAVA SCRIPT\n",
    "var valeurs = [79, 68, 74, 18, 5, 72, 77, 57, 84, 11]\n",
    "var nbValeursInferieures = 0;\n",
    "for (var i=0;i<valeurs.length;i++) {\n",
    "    var uneValeur = valeurs[i];\n",
    "    if(uneValeur < 50)\n",
    "        nbValeursInferieures += 1;\n",
    "}\n",
    "console.log(\"Nb valeurs < 50 :\", nbValeursInferieures);\n",
    "console.log(\"Nb valeurs >= 50:\", (valeurs.length) - nbValeursInferieures);"
   ]
  },
  {
   "cell_type": "markdown",
   "metadata": {},
   "source": [
    "#### Traiter deux collections en parallèle"
   ]
  },
  {
   "cell_type": "code",
   "execution_count": 5,
   "metadata": {},
   "outputs": [
    {
     "name": "stdout",
     "output_type": "stream",
     "text": [
      "Toronto : 2.73 million(s)\n",
      "Montréal : 1.70 million(s)\n",
      "Vancouver : 0.63 million(s)\n",
      "New York : 8.62 million(s)\n"
     ]
    }
   ],
   "source": [
    "# PYTHON\n",
    "villes = ['Toronto', 'Montréal', 'Vancouver', 'New York']\n",
    "populations = [2731571, 1704694, 631486, 8622698]\n",
    "# Afficher la population pour chaque ville, exprimée en millions d'habitants\n",
    "for i in range(len(villes)):\n",
    "    print('%-9s : %.1f million(s)' % (villes[i], populations[i] / 1000000.0))"
   ]
  },
  {
   "cell_type": "code",
   "execution_count": 77,
   "metadata": {},
   "outputs": [
    {
     "name": "stdout",
     "output_type": "stream",
     "text": [
      "Toronto : 2.7 million(s)\n",
      "Montréal : 1.7 million(s)\n",
      "Vancouver : 6.3 million(s)\n",
      "New York : 8.6 million(s)\n"
     ]
    }
   ],
   "source": [
    "// JAVA SCRIPT\n",
    "var villes = ['Toronto', 'Montréal', 'Vancouver', 'New York'];\n",
    "var populations = [2731571, 1704694, 6314860, 8622698];\n",
    "// Afficher la population pour chaque ville, exprimée en millions d'habitants\n",
    "for(var i=0;i<villes.length;i++) {\n",
    "    var villeCourante = villes[i];\n",
    "    var popMillions = populations[i] / 1000000.0;\n",
    "    console.log(`${villeCourante} : ${popMillions.toFixed(1)} million(s)`);\n",
    "}"
   ]
  },
  {
   "cell_type": "markdown",
   "metadata": {},
   "source": [
    "### Collection de collections\n",
    "\n",
    "On peut avoir une représentation un peu plus complexe.  \n",
    "Par exemple:"
   ]
  },
  {
   "cell_type": "code",
   "execution_count": 78,
   "metadata": {},
   "outputs": [],
   "source": [
    "var populationClasses = [ [10,20], [5,15], [12,9], [25,3] ];"
   ]
  },
  {
   "cell_type": "code",
   "execution_count": 8,
   "metadata": {},
   "outputs": [
    {
     "name": "stdout",
     "output_type": "stream",
     "text": [
      "[ 10, 20 ]\n",
      "Gars  : 10\n",
      "Filles: 20\n"
     ]
    }
   ],
   "source": [
    "# PYTHON\n",
    "print(populationClasses[0]) # Première classe\n",
    "print(\"Gars  :\", populationClasses[0][0])\n",
    "print(\"Filles:\", populationClasses[0][1])"
   ]
  },
  {
   "cell_type": "code",
   "execution_count": 79,
   "metadata": {},
   "outputs": [
    {
     "name": "stdout",
     "output_type": "stream",
     "text": [
      "[ 10, 20 ]\n",
      "Gars  : 10\n",
      "Filles: 20\n"
     ]
    }
   ],
   "source": [
    "// JAVA SCRIPT\n",
    "console.log(populationClasses[0]); //Première classe\n",
    "console.log(\"Gars  :\", populationClasses[0][0]);\n",
    "console.log(\"Filles:\", populationClasses[0][1]);"
   ]
  },
  {
   "cell_type": "code",
   "execution_count": 86,
   "metadata": {},
   "outputs": [
    {
     "name": "stdout",
     "output_type": "stream",
     "text": [
      "99\n"
     ]
    }
   ],
   "source": [
    "//Compter le nombre de gars et le nombre de filles pour l'ensemble des classes\n",
    "var total= 0;\n",
    "for(var i=0;i<populationClasses.length;i++) {\n",
    "    total += populationClasses[i][0] + \n",
    "        populationClasses[i][1];\n",
    "}\n",
    "console.log(total);"
   ]
  },
  {
   "cell_type": "code",
   "execution_count": null,
   "metadata": {},
   "outputs": [],
   "source": []
  }
 ],
 "metadata": {
  "kernelspec": {
   "display_name": "Javascript (Node.js)",
   "language": "javascript",
   "name": "javascript"
  },
  "language_info": {
   "file_extension": ".js",
   "mimetype": "application/javascript",
   "name": "javascript",
   "version": "6.11.0"
  }
 },
 "nbformat": 4,
 "nbformat_minor": 2
}
